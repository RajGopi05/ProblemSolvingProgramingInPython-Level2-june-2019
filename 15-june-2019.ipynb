{
 "cells": [
  {
   "cell_type": "code",
   "execution_count": 13,
   "metadata": {},
   "outputs": [
    {
     "name": "stdout",
     "output_type": "stream",
     "text": [
      "10\n"
     ]
    }
   ],
   "source": [
    "#problem-1\n",
    "# Count divisors problem\n",
    "\n",
    "def CountDivisors(l,r,k):\n",
    "    count=0\n",
    "    for i in range(l,r+1):\n",
    "        if i%k==0:\n",
    "            count=count+1\n",
    "    print(count)\n",
    "CountDivisors(1,10,1)"
   ]
  },
  {
   "cell_type": "code",
   "execution_count": 14,
   "metadata": {},
   "outputs": [
    {
     "name": "stdout",
     "output_type": "stream",
     "text": [
      "enter4\n",
      "24\n"
     ]
    }
   ],
   "source": [
    "#problem -2\n",
    "#factorial of a given number\n",
    "n=int(input(\"enter\"))\n",
    "def fact(n):\n",
    "    f1=1\n",
    "    for i in range(1,n+1):\n",
    "        f1=f1*i\n",
    "    print(f1)\n",
    "fact(n)"
   ]
  },
  {
   "cell_type": "code",
   "execution_count": 11,
   "metadata": {},
   "outputs": [
    {
     "name": "stdout",
     "output_type": "stream",
     "text": [
      "enter a stringabcdE\n",
      "ABCDe\n"
     ]
    }
   ],
   "source": [
    "#problem-3\n",
    "#write program on toggle string\n",
    "\n",
    "s1=input(\"enter a string\")\n",
    "\n",
    "s2=s1.swapcase()\n",
    "\n",
    "print(s2)\n",
    "\n"
   ]
  },
  {
   "cell_type": "code",
   "execution_count": 24,
   "metadata": {},
   "outputs": [
    {
     "data": {
      "text/plain": [
       "'ABCDe'"
      ]
     },
     "execution_count": 24,
     "metadata": {},
     "output_type": "execute_result"
    }
   ],
   "source": [
    "#problem-4\n",
    "#write program on toggle string \n",
    "#another logic\n",
    "\n",
    "def toggleString(s):\n",
    "    s=list(s)\n",
    "    t=[]\n",
    "    for c in s:\n",
    "        if c.islower():\n",
    "            t.append(c.upper())\n",
    "        else:\n",
    "            t.append(c.lower())\n",
    "    return \"\".join(t)\n",
    "toggleString(\"abcdE\")"
   ]
  },
  {
   "cell_type": "code",
   "execution_count": 12,
   "metadata": {},
   "outputs": [
    {
     "name": "stdout",
     "output_type": "stream",
     "text": [
      "enter a string:aba\n",
      "palindrom\n"
     ]
    }
   ],
   "source": [
    "#problem-4\n",
    "#find given string is a palendrome or not\n",
    "\n",
    "\n",
    "s1=input(\"enter a string:\")\n",
    "s2=s1[::-1]\n",
    "if s1==s2:\n",
    "    print(\"palindrom\")\n",
    "else:\n",
    "    print(\"not a palendrom\")\n",
    "    \n",
    "\n",
    "\n",
    "\n",
    "    "
   ]
  },
  {
   "cell_type": "code",
   "execution_count": 22,
   "metadata": {},
   "outputs": [
    {
     "name": "stdout",
     "output_type": "stream",
     "text": [
      "9\n",
      "2 3 5 7 "
     ]
    }
   ],
   "source": [
    "#PROBLEM-5\n",
    "#prime numbers program\n",
    "\n",
    "def prime(n):\n",
    "   for i in range(2,n+1,1):\n",
    "       count=0\n",
    "       for j in range(1,i+1,1):\n",
    "           if i%j==0:\n",
    "               count=count+1\n",
    "       if count==2:\n",
    "           print(i,end=\" \")\n",
    "n=int(input())\n",
    "prime(n)\n",
    "\n"
   ]
  },
  {
   "cell_type": "markdown",
   "metadata": {},
   "source": [
    "### Problem:Duration\n"
   ]
  },
  {
   "cell_type": "markdown",
   "metadata": {},
   "source": [
    "### input:start time, end time (HH MM)\n",
    "    \n",
    "   ## HH-{00,23}-{00 00,23 59}\n",
    "   # ## MM-{00,59}\n",
    "  ##  HH-{00,01,02,------23}\n",
    "   ### MM-{00,01,02,------59}\n",
    "   ## HH MM-{00 00 23 59}\n",
    "\n",
    "### output:time diffrence in HH MM"
   ]
  },
  {
   "cell_type": "code",
   "execution_count": 37,
   "metadata": {},
   "outputs": [
    {
     "name": "stdout",
     "output_type": "stream",
     "text": [
      "0 30\n"
     ]
    }
   ],
   "source": [
    "#PROBLEM-7\n",
    "# calculate the time difference as total number of  hours\n",
    "# convert the total minuits into HH MM\n",
    "\n",
    "s=\"1 44 2 14\"\n",
    "def minuteDifference(s):\n",
    "   s=s.split()\n",
    "   sh=int(s[0])\n",
    "   sm=int(s[1])\n",
    "   eh=int(s[2])\n",
    "   em=int(s[3])\n",
    "   startminutes=(sh*60)+sm\n",
    "   endminutes=(eh*60)+em\n",
    "   return endminutes-startminutes\n",
    "def outputTimeFormat(minutes):\n",
    "   # Convert minutes to HH MM\n",
    "   hh=minutes//60\n",
    "   mm=minutes%60\n",
    "   print(hh,mm)\n",
    "   return \n",
    "minutes=minuteDifference(s)\n",
    "outputTimeFormat(minutes)\n"
   ]
  },
  {
   "cell_type": "code",
   "execution_count": null,
   "metadata": {},
   "outputs": [],
   "source": [
    "#PROBLEM-8\n",
    "#write program on two string program\n",
    "\n",
    "n=int(input())\n",
    "for i in range(n):\n",
    "    z=list(input().split(' '))\n",
    "    if sorted(z[0])==sorted(z[1]):\n",
    "        print(\"YES\")\n",
    "    else:\n",
    "    print(\"NO\")"
   ]
  },
  {
   "cell_type": "code",
   "execution_count": null,
   "metadata": {},
   "outputs": [],
   "source": [
    "#PROBLEM-9\n",
    "#char sum program\n",
    "\n",
    "#Charsum\n",
    "def charsum(s):\n",
    "   sum=0\n",
    "   \n",
    "   for i in range(0,len(s),1):\n",
    "       sum=sum+((ord(s[i]))-96)\n",
    "   print(sum)\n",
    "   \n",
    "s=input(\"raja\")\n",
    "charsum(s)\n"
   ]
  },
  {
   "cell_type": "code",
   "execution_count": null,
   "metadata": {},
   "outputs": [],
   "source": []
  }
 ],
 "metadata": {
  "kernelspec": {
   "display_name": "Python 3",
   "language": "python",
   "name": "python3"
  },
  "language_info": {
   "codemirror_mode": {
    "name": "ipython",
    "version": 3
   },
   "file_extension": ".py",
   "mimetype": "text/x-python",
   "name": "python",
   "nbconvert_exporter": "python",
   "pygments_lexer": "ipython3",
   "version": "3.7.3"
  }
 },
 "nbformat": 4,
 "nbformat_minor": 2
}
