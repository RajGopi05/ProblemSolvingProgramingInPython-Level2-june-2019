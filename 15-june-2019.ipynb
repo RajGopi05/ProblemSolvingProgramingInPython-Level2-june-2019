{
 "cells": [
  {
   "cell_type": "code",
   "execution_count": 13,
   "metadata": {},
   "outputs": [
    {
     "name": "stdout",
     "output_type": "stream",
     "text": [
      "10\n"
     ]
    }
   ],
   "source": [
    " \n",
    "# Count divisors problem\n",
    "\n",
    "def CountDivisors(l,r,k):\n",
    "    count=0\n",
    "    for i in range(l,r+1):\n",
    "        if i%k==0:\n",
    "            count=count+1\n",
    "    print(count)\n",
    "CountDivisors(1,10,1)"
   ]
  },
  {
   "cell_type": "code",
   "execution_count": 14,
   "metadata": {},
   "outputs": [
    {
     "name": "stdout",
     "output_type": "stream",
     "text": [
      "enter4\n",
      "24\n"
     ]
    }
   ],
   "source": [
    "#factorial of a given number\n",
    "n=int(input(\"enter\"))\n",
    "def fact(n):\n",
    "    f1=1\n",
    "    for i in range(1,n+1):\n",
    "        f1=f1*i\n",
    "    print(f1)\n",
    "fact(n)"
   ]
  },
  {
   "cell_type": "code",
   "execution_count": 11,
   "metadata": {},
   "outputs": [
    {
     "name": "stdout",
     "output_type": "stream",
     "text": [
      "enter a stringabcdE\n",
      "ABCDe\n"
     ]
    }
   ],
   "source": [
    "#write program on toggle string\n",
    "\n",
    "s1=input(\"enter a string\")\n",
    "\n",
    "s2=s1.swapcase()\n",
    "\n",
    "print(s2)\n",
    "\n"
   ]
  },
  {
   "cell_type": "code",
   "execution_count": 12,
   "metadata": {},
   "outputs": [
    {
     "name": "stdout",
     "output_type": "stream",
     "text": [
      "enter a string:aba\n",
      "palindrom\n"
     ]
    }
   ],
   "source": [
    "#find given string is a palendrome or not\n",
    "\n",
    "\n",
    "s1=input(\"enter a string:\")\n",
    "s2=s1[::-1]\n",
    "if s1==s2:\n",
    "    print(\"palindrom\")\n",
    "else:\n",
    "    print(\"not a palendrom\")\n",
    "    \n",
    "\n",
    "\n",
    "\n",
    "    "
   ]
  },
  {
   "cell_type": "code",
   "execution_count": 22,
   "metadata": {},
   "outputs": [
    {
     "name": "stdout",
     "output_type": "stream",
     "text": [
      "9\n",
      "2 3 5 7 "
     ]
    }
   ],
   "source": [
    "#prime numbers program\n",
    "\n",
    "def prime(n):\n",
    "   for i in range(2,n+1,1):\n",
    "       count=0\n",
    "       for j in range(1,i+1,1):\n",
    "           if i%j==0:\n",
    "               count=count+1\n",
    "       if count==2:\n",
    "           print(i,end=\" \")\n",
    "n=int(input())\n",
    "prime(n)\n",
    "\n"
   ]
  },
  {
   "cell_type": "code",
   "execution_count": 11,
   "metadata": {},
   "outputs": [
    {
     "name": "stdout",
     "output_type": "stream",
     "text": [
      "enter no of test cases1\n",
      "rama\n",
      "sura\n",
      "yes\n"
     ]
    }
   ],
   "source": [
    "T=input(\"enter no of test cases\")\n",
    "s1=input()\n",
    "s2=input()\n",
    "l1=len(s1)\n",
    "l2=len(s2)\n",
    "r1=s1.split()\n",
    "r2=s2.split()\n",
    "p1=r1.sort()\n",
    "p2=r2.sort()\n",
    "\n",
    "if l1==l2 and p1==p2:\n",
    "    print(\"yes\")\n",
    "else:\n",
    "    print(\"no\")\n",
    "\n",
    "\n"
   ]
  },
  {
   "cell_type": "code",
   "execution_count": 13,
   "metadata": {},
   "outputs": [
    {
     "name": "stdout",
     "output_type": "stream",
     "text": [
      "3\n",
      "string trings\n",
      "yes\n",
      "sumit mitsu\n",
      "yes\n",
      "abhi hibb\n",
      "No\n"
     ]
    }
   ],
   "source": [
    "def twostrings(s1,s2):\n",
    "   c=0\n",
    "   for char in range(0,len(s1)):\n",
    "       if (s1[char] in s2)!=True:\n",
    "           c=1\n",
    "   if(c==1):\n",
    "       print(\"No\")\n",
    "   else :\n",
    "       print(\"yes\")\n",
    "\n",
    "n=int(input())        \n",
    "for i in range(0,n,1):\n",
    "   s=input()\n",
    "   s=s.split()\n",
    "   s1=s[0]\n",
    "   s2=s[1]\n",
    "   twostrings(s1,s2)"
   ]
  },
  {
   "cell_type": "code",
   "execution_count": null,
   "metadata": {},
   "outputs": [],
   "source": []
  }
 ],
 "metadata": {
  "kernelspec": {
   "display_name": "Python 3",
   "language": "python",
   "name": "python3"
  },
  "language_info": {
   "codemirror_mode": {
    "name": "ipython",
    "version": 3
   },
   "file_extension": ".py",
   "mimetype": "text/x-python",
   "name": "python",
   "nbconvert_exporter": "python",
   "pygments_lexer": "ipython3",
   "version": "3.7.3"
  }
 },
 "nbformat": 4,
 "nbformat_minor": 2
}
