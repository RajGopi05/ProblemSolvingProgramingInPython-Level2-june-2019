{
 "cells": [
  {
   "cell_type": "code",
   "execution_count": 4,
   "metadata": {},
   "outputs": [
    {
     "name": "stdout",
     "output_type": "stream",
     "text": [
      "1 2\n",
      "1 3\n",
      "1 4\n",
      "2 3\n",
      "2 4\n",
      "3 4\n"
     ]
    }
   ],
   "source": [
    "#function to print all combinations of pairs of integers in a unique list\n",
    "#[1,2,3]-->(1,2).(1,3),(2,3)-->3C2--->3!/((3-2)!*2!)\n",
    "#combine the first element with next elemets like (1,2) and (1,3)\n",
    "#[1,2,3,4]-->(1,2),(1,3),(1,4),(2,3),(2,4),(3,4)\n",
    "#[1,2,3,4]--->(1,2,3),(1,2,4),(1,3,4),(2,3,4)\n",
    "\n",
    "def combinations(li):\n",
    "    for i in range(len(li)-1):\n",
    "        for j in range(i+1,len(li)):\n",
    "            for k in range()\n",
    "            print(li[i],li[j])\n",
    "    #return \n",
    "# li=[1,2,3,4]\n",
    "# combinations(li)\n",
    "            \n",
    "        \n",
    "        \n",
    "        "
   ]
  },
  {
   "cell_type": "code",
   "execution_count": 9,
   "metadata": {},
   "outputs": [
    {
     "name": "stdout",
     "output_type": "stream",
     "text": [
      "1 2 3\n",
      "1 2 4\n",
      "1 2 5\n",
      "1 3 4\n",
      "1 3 5\n",
      "1 4 5\n",
      "2 3 4\n",
      "2 3 5\n",
      "2 4 5\n",
      "3 4 5\n"
     ]
    }
   ],
   "source": [
    "def combinations3(li):\n",
    "    for i in range(len(li)-2):\n",
    "        for j in range(i+1,len(li)-1):\n",
    "            for k in range(j+1,len(li)):\n",
    "                print(li[i],li[j],li[k])\n",
    "    return\n",
    "combinations3([1,2,3,4,5])"
   ]
  },
  {
   "cell_type": "code",
   "execution_count": 34,
   "metadata": {},
   "outputs": [
    {
     "data": {
      "text/plain": [
       "6"
      ]
     },
     "execution_count": 34,
     "metadata": {},
     "output_type": "execute_result"
    }
   ],
   "source": [
    "def medium(li,k):\n",
    "    count=1\n",
    "    while(True):\n",
    "            li3=DifferenceOfPairs(li)\n",
    "            if li3[0]==li3[1]:\n",
    "                break\n",
    "    if len(li3[0])>k:\n",
    "        return sorted(li3[0],reverse=True)[k-1]\n",
    "    return -1\n",
    "#[1,9,8]-->[1,9,8,7,2]\n",
    "def DifferenceOfPairs(li):\n",
    "    copyli=li[:]\n",
    "    newElements=[]\n",
    "    for i in range(len(li)-1):\n",
    "        for j in range(i+1,len(li)):\n",
    "            difference=abs(li[i]-li[j])\n",
    "            if difference not in li and difference not in newElements:\n",
    "                newElements.append(difference)\n",
    "    li.extend(newElements)\n",
    "    return [copyli,li]\n",
    "                #copyli.append(difference)\n",
    "li=[1,3,5,6,7]\n",
    "medium(li,2)\n",
    "\n",
    "                "
   ]
  },
  {
   "cell_type": "markdown",
   "metadata": {},
   "source": [
    "\n",
    "# Set-Data Structure in python   \n",
    "  \n",
    "  - represented by {}\n",
    "  \n",
    "  - a = {1,2,3,4,5,6,7}--------->     elements are unique in sets\n",
    "  \n",
    "  - a.add(7)  ------------> add is a function to add the element and adding a single element to a set\n",
    "  \n",
    "  - for i in a:\n",
    "        print(a,end=' ')   ------>adding multiple elements\n",
    "        \n",
    "   - a={1,2,3,4,5,6,7}\n",
    "   \n",
    "     b={2,5,3,4,6,3,6}\n",
    "     \n",
    "     a.update(b)\n",
    "   \n",
    "        "
   ]
  },
  {
   "cell_type": "code",
   "execution_count": 39,
   "metadata": {},
   "outputs": [
    {
     "data": {
      "text/plain": [
       "{1, 2, 3, 4, 5, 6, 7, 8}"
      ]
     },
     "execution_count": 39,
     "metadata": {},
     "output_type": "execute_result"
    }
   ],
   "source": [
    "a = {1,2,3,4,5,6,7,6}\n",
    "a.add(8)\n",
    "a"
   ]
  },
  {
   "cell_type": "code",
   "execution_count": 42,
   "metadata": {},
   "outputs": [
    {
     "name": "stdout",
     "output_type": "stream",
     "text": [
      "{1, 2, 3, 4, 5, 6, 7, 8, 10}\n"
     ]
    }
   ],
   "source": [
    "a={1,2,3,4,5,6,7}\n",
    "b={2,5,3,4,8,3,10}\n",
    "a.update(b)\n",
    "   \n",
    "print(a)"
   ]
  },
  {
   "cell_type": "code",
   "execution_count": 43,
   "metadata": {},
   "outputs": [
    {
     "data": {
      "text/plain": [
       "{1, 2, 3, 4, 5, 6, 7, 8, 10, 11, 12, 13}"
      ]
     },
     "execution_count": 43,
     "metadata": {},
     "output_type": "execute_result"
    }
   ],
   "source": [
    "a={1,2,3,4,5,6,7}\n",
    "li=[11,12,13]                 #update function used to add the elements in a list\n",
    "a.update(b,li)\n",
    "a"
   ]
  },
  {
   "cell_type": "code",
   "execution_count": 51,
   "metadata": {},
   "outputs": [
    {
     "data": {
      "text/plain": [
       "{1, 2, 3, 4, 6, 8, 11, 12, 13}"
      ]
     },
     "execution_count": 51,
     "metadata": {},
     "output_type": "execute_result"
    }
   ],
   "source": [
    "#a.remove(5)                #we can remove the elements using remove function or else using discard\n",
    "a.discard(10)\n",
    "a"
   ]
  },
  {
   "cell_type": "code",
   "execution_count": 56,
   "metadata": {},
   "outputs": [
    {
     "data": {
      "text/plain": [
       "{1, 2, 3, 4, 5, 6, 8, 10, 11, 12, 13}"
      ]
     },
     "execution_count": 56,
     "metadata": {},
     "output_type": "execute_result"
    }
   ],
   "source": [
    "a={1, 2, 3, 4, 6, 8, 11, 12, 13}\n",
    "b={2, 3, 4, 5, 8, 10}                  ##combine all the elements from both the sets\n",
    "a.union(b)\n",
    "\n"
   ]
  },
  {
   "cell_type": "code",
   "execution_count": 57,
   "metadata": {},
   "outputs": [
    {
     "data": {
      "text/plain": [
       "{2, 3, 4, 8}"
      ]
     },
     "execution_count": 57,
     "metadata": {},
     "output_type": "execute_result"
    }
   ],
   "source": [
    "a={1, 2, 3, 4, 6, 8, 11, 12, 13}\n",
    "b={2, 3, 4, 5, 8, 10} \n",
    "\n",
    "a.intersection(b)          #display the common elements in both sets"
   ]
  },
  {
   "cell_type": "code",
   "execution_count": 61,
   "metadata": {},
   "outputs": [
    {
     "data": {
      "text/plain": [
       "True"
      ]
     },
     "execution_count": 61,
     "metadata": {},
     "output_type": "execute_result"
    }
   ],
   "source": [
    "c={2,3,4}                #disjoint means no common elements are there in both the set\n",
    "\n",
    "d={5,6,7}               #(C n D)={}\n",
    "c.isdisjoint(d)"
   ]
  },
  {
   "cell_type": "code",
   "execution_count": 62,
   "metadata": {},
   "outputs": [
    {
     "data": {
      "text/plain": [
       "{1, 6, 11, 12, 13}"
      ]
     },
     "execution_count": 62,
     "metadata": {},
     "output_type": "execute_result"
    }
   ],
   "source": [
    "a={1, 2, 3, 4, 6, 8, 11, 12, 13}\n",
    "b={2, 3, 4, 5, 8, 10} \n",
    "a-b"
   ]
  },
  {
   "cell_type": "code",
   "execution_count": 63,
   "metadata": {},
   "outputs": [
    {
     "data": {
      "text/plain": [
       "{1, 5, 6, 10, 11, 12, 13}"
      ]
     },
     "execution_count": 63,
     "metadata": {},
     "output_type": "execute_result"
    }
   ],
   "source": [
    "a^b       #elements which are in a or b"
   ]
  },
  {
   "cell_type": "code",
   "execution_count": 65,
   "metadata": {},
   "outputs": [
    {
     "data": {
      "text/plain": [
       "{1, 2, 3, 4, 5, 6, 7}"
      ]
     },
     "execution_count": 65,
     "metadata": {},
     "output_type": "execute_result"
    }
   ],
   "source": [
    "li=[1,2,3,4,5,6,7,6,7]\n",
    "u=set(li)\n",
    "u"
   ]
  },
  {
   "cell_type": "markdown",
   "metadata": {},
   "source": [
    "# Procedural: c\n",
    "\n",
    "# Object Oriented: Java,PYTHON\n",
    "\n",
    "# Scripting: PHP,PYTHON,JAVASCRIPT,SHELL,PERAL\n",
    "    \n",
    "# FUNCTIONAL: PYTHON,Haskell,scala\n",
    "    \n",
    "# Logic : Prolog,lisp"
   ]
  },
  {
   "cell_type": "markdown",
   "metadata": {},
   "source": [
    "### LIST COMPREHENSION"
   ]
  },
  {
   "cell_type": "code",
   "execution_count": 69,
   "metadata": {},
   "outputs": [
    {
     "data": {
      "text/plain": [
       "[1, 2, 3, 4, 5, 6, 7, 8, 9, 10]"
      ]
     },
     "execution_count": 69,
     "metadata": {},
     "output_type": "execute_result"
    }
   ],
   "source": [
    "#list of n natural numbers\n",
    "n=10\n",
    "li=[]\n",
    "for i in range(1,n+1):\n",
    "    li.append(i)\n",
    "li\n",
    "\n"
   ]
  },
  {
   "cell_type": "code",
   "execution_count": 71,
   "metadata": {},
   "outputs": [
    {
     "data": {
      "text/plain": [
       "[1, 2, 3, 4, 5, 6, 7, 8, 9, 10]"
      ]
     },
     "execution_count": 71,
     "metadata": {},
     "output_type": "execute_result"
    }
   ],
   "source": [
    "li=[i for i in range(1,11)]\n",
    "li"
   ]
  },
  {
   "cell_type": "code",
   "execution_count": 74,
   "metadata": {},
   "outputs": [
    {
     "data": {
      "text/plain": [
       "[1, 8, 27, 64, 125, 216, 343, 512, 729, 1000]"
      ]
     },
     "execution_count": 74,
     "metadata": {},
     "output_type": "execute_result"
    }
   ],
   "source": [
    "#Apply list comprehension to store the cubes of n natural numbers\n",
    "li=[i**3 for i in range(1,11)]\n",
    "li"
   ]
  },
  {
   "cell_type": "code",
   "execution_count": 77,
   "metadata": {},
   "outputs": [
    {
     "data": {
      "text/plain": [
       "[1, 8, 27, 64, 125, 216, 343, 512, 729, 1000, 1331, 1728, 2197, 2744]"
      ]
     },
     "execution_count": 77,
     "metadata": {},
     "output_type": "execute_result"
    }
   ],
   "source": [
    "li=[i**3 for i in range(1,15)]\n",
    "li"
   ]
  },
  {
   "cell_type": "code",
   "execution_count": 88,
   "metadata": {},
   "outputs": [
    {
     "data": {
      "text/plain": [
       "[1, 2, 6, 24, 120, 720, 5040, 40320, 362880]"
      ]
     },
     "execution_count": 88,
     "metadata": {},
     "output_type": "execute_result"
    }
   ],
   "source": [
    "#function to calculate the m factorial\n",
    "\n",
    "def factorial(n):\n",
    "    if n==0 or n ==1:\n",
    "        return 1\n",
    "    return n*factorial(n-1)\n",
    "#apply list comprehension to calculate the factorial of n natural numbers\n",
    "n=10\n",
    "factorialList=[factorial(i) for i in range(1,n)]\n",
    "\n",
    "factorialList\n"
   ]
  },
  {
   "cell_type": "code",
   "execution_count": 95,
   "metadata": {},
   "outputs": [
    {
     "data": {
      "text/plain": [
       "[1, 3, 6, 10, 15, 21]"
      ]
     },
     "execution_count": 95,
     "metadata": {},
     "output_type": "execute_result"
    }
   ],
   "source": [
    "#store cumulative sum of numbers till in the \n",
    "#n=3-->[1,3,6]\n",
    "#n=5-->[1,3,6,10,15]\n",
    "n=6\n",
    "cumulativeSum=[sum(range(1,i+1)) for i in range(1,n+1)]\n",
    "cumulativeSum\n",
    "\n",
    "\n"
   ]
  },
  {
   "cell_type": "code",
   "execution_count": 96,
   "metadata": {},
   "outputs": [
    {
     "data": {
      "text/plain": [
       "[1972, 1976, 1980, 1984, 1988, 1992, 1996, 2000, 2004, 2008, 2012, 2016]"
      ]
     },
     "execution_count": 96,
     "metadata": {},
     "output_type": "execute_result"
    }
   ],
   "source": [
    "#list comprehension to store \n",
    "# only leap years in a given time period\n",
    "\n",
    "startyear=1970\n",
    "endyear=2019\n",
    "leapyears=[i for i in range(startyear,endyear+1) if (i %400==0 or i%100!=0) and (i%4==0)]\n",
    "leapyears\n",
    "\n",
    " "
   ]
  },
  {
   "cell_type": "code",
   "execution_count": 105,
   "metadata": {},
   "outputs": [
    {
     "data": {
      "text/plain": [
       "[1, 2, 3, 4, 5, 6]"
      ]
     },
     "execution_count": 105,
     "metadata": {},
     "output_type": "execute_result"
    }
   ],
   "source": [
    "li=[1,2,3,2,1,4,4,5,6,5,5]\n",
    "unique=[]\n",
    "u2=[]\n",
    "unique=[i for i in range(0,len(li) if sorted(li)[i]!=sorted(li).count(i) == 1]\n",
    "#unique=[u2.append(i) for i in li if i not in u2]\n",
    "u2"
   ]
  },
  {
   "cell_type": "markdown",
   "metadata": {},
   "source": [
    "### iterators in python\n",
    "\n",
    "- iterable ---->Strings,Lists,Tuples,Dictionaries\n",
    "\n",
    "- convert iterable to iterator-->using function called -->iter()\n",
    "\n",
    "- For Loop: we can break when some condition satisfied\n",
    "\n",
    "- iterator: we can stop at any point during the exeuction\n",
    "\n",
    "- \n",
    "\n",
    "- "
   ]
  },
  {
   "cell_type": "code",
   "execution_count": 7,
   "metadata": {},
   "outputs": [
    {
     "name": "stdout",
     "output_type": "stream",
     "text": [
      "hello raju\n"
     ]
    }
   ],
   "source": [
    "def fun(name):\n",
    "    print(\"hello\",\"\"+ name)\n",
    "fun(\"raju\")\n",
    "    "
   ]
  },
  {
   "cell_type": "code",
   "execution_count": null,
   "metadata": {},
   "outputs": [],
   "source": []
  },
  {
   "cell_type": "markdown",
   "metadata": {},
   "source": [
    "### Generator\n",
    "\n",
    "Generator is Function"
   ]
  },
  {
   "cell_type": "code",
   "execution_count": 18,
   "metadata": {},
   "outputs": [
    {
     "data": {
      "text/plain": [
       "512"
      ]
     },
     "execution_count": 18,
     "metadata": {},
     "output_type": "execute_result"
    }
   ],
   "source": [
    "#n=1\n",
    "def generator():\n",
    "    n=2\n",
    "    #while True:\n",
    "    n **=3\n",
    "        \n",
    "    yield n\n",
    "    yield n\n",
    "    \n",
    "    n=n**3\n",
    "    \n",
    "    yield n\n",
    "    \n",
    "    n=n**3\n",
    "    \n",
    "    yield n\n",
    "\n",
    "a=generator()\n",
    "for i in range(2):\n",
    "    next(a)\n",
    "next(a)\n",
    "    "
   ]
  },
  {
   "cell_type": "code",
   "execution_count": 28,
   "metadata": {},
   "outputs": [
    {
     "data": {
      "text/plain": [
       "1"
      ]
     },
     "execution_count": 28,
     "metadata": {},
     "output_type": "execute_result"
    }
   ],
   "source": [
    "def ree(x):\n",
    "    for i in range(1,x+1):\n",
    "        return i\n",
    "ree(2)\n",
    "        "
   ]
  },
  {
   "cell_type": "code",
   "execution_count": null,
   "metadata": {},
   "outputs": [],
   "source": []
  }
 ],
 "metadata": {
  "kernelspec": {
   "display_name": "Python 3",
   "language": "python",
   "name": "python3"
  },
  "language_info": {
   "codemirror_mode": {
    "name": "ipython",
    "version": 3
   },
   "file_extension": ".py",
   "mimetype": "text/x-python",
   "name": "python",
   "nbconvert_exporter": "python",
   "pygments_lexer": "ipython3",
   "version": "3.7.3"
  }
 },
 "nbformat": 4,
 "nbformat_minor": 2
}
