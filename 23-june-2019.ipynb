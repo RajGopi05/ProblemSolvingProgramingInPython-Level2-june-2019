{
 "cells": [
  {
   "cell_type": "code",
   "execution_count": 1,
   "metadata": {},
   "outputs": [
    {
     "data": {
      "text/plain": [
       "3"
      ]
     },
     "execution_count": 1,
     "metadata": {},
     "output_type": "execute_result"
    }
   ],
   "source": [
    "#function to get unique elements in a list\n",
    "\n",
    "#example:-[1,2,3,3,2,1]->[1.2.3]\n",
    "\n",
    "#create a unique or empty unique list [1,2,3]\n",
    "\n",
    "def uniqueData(li):\n",
    "    #create an empty unique list\n",
    "    unique=[]\n",
    "    #for every't  element in the main list,\n",
    "    #check if it exits in the unique list.\n",
    "    #if it doesn't exist,add add it to unique liust.\n",
    "    #else if it is already exists,mpove on to the list\n",
    "    for element in li:\n",
    "        if element not in unique:\n",
    "            unique.append(element)\n",
    "    return unique\n",
    "li=[1,2,3,3,2,1]\n",
    "len(uniqueData(li))\n",
    "\n",
    "\n"
   ]
  },
  {
   "cell_type": "code",
   "execution_count": 3,
   "metadata": {},
   "outputs": [
    {
     "name": "stdout",
     "output_type": "stream",
     "text": [
      "['data', 'in', 'line', '1', 'data', 'in', 'line', '2', 'data', 'in', 'line', '3']\n",
      "['data', 'in', 'line', '1', '2', '3']\n"
     ]
    },
    {
     "data": {
      "text/plain": [
       "6"
      ]
     },
     "execution_count": 3,
     "metadata": {},
     "output_type": "execute_result"
    }
   ],
   "source": [
    "#count the number of words in a text file\n",
    "filePath=\"DataFiles/1.txt\"\n",
    "def uniqueWords(filePath):\n",
    "    count=0\n",
    "    with open(filePath,\"r\") as f:\n",
    "        filedata=f.read().split()\n",
    "        print(filedata)\n",
    "        #create an empty unique list\n",
    "        unique=[]\n",
    "        #for every't  element in the main list,\n",
    "        #check if it exits in the unique list.\n",
    "        #if it doesn't exist,add add it to unique list.\n",
    "        #else if it is already exists,mpove on to the list\n",
    "        for element in filedata:\n",
    "            if element not in unique:\n",
    "                unique.append(element)\n",
    "                count+=1\n",
    "        print(unique)\n",
    "        return count\n",
    "        \n",
    "uniqueWords(filePath)\n"
   ]
  },
  {
   "cell_type": "markdown",
   "metadata": {},
   "source": [
    "# function to print the frequency count of all words in a file\n",
    "# frequency Distribution\n",
    "# data in line 1\n",
    "# data in line 2\n",
    "# data in line 3\n",
    "# o/p\n",
    "# data :3\n",
    "# in:3\n",
    "# line:3\n",
    "# 1:1\n",
    "# 2:1\n",
    "# 3:1"
   ]
  },
  {
   "cell_type": "code",
   "execution_count": 4,
   "metadata": {},
   "outputs": [
    {
     "name": "stdout",
     "output_type": "stream",
     "text": [
      "['data', 'in', 'line', '1', 'data', 'in', 'line', '2', 'data', 'in', 'line', '3']\n",
      "data :  3\n",
      "in :  3\n",
      "line :  3\n",
      "1 :  1\n",
      "2 :  1\n",
      "3 :  1\n"
     ]
    }
   ],
   "source": [
    "def frequencyCount(filepath): \n",
    "   count = {} \n",
    "   with open(filepath, \"r\") as f:\n",
    "       filedata = f.read().split()\n",
    "       print(filedata)\n",
    "       for i in filedata: \n",
    "           if i not in count: \n",
    "               count[i] = 1\n",
    "           else: \n",
    "               count[i] += 1\n",
    " \n",
    "   for key, value in count.items():\n",
    "       print (\"% s : % d\" %(key, value)) \n",
    "\n",
    "filepath = \"DataFiles/1.txt\"\n",
    "frequencyCount(filepath) \n",
    "\n",
    "\n",
    "            \n",
    "        \n",
    "            "
   ]
  },
  {
   "cell_type": "code",
   "execution_count": null,
   "metadata": {},
   "outputs": [],
   "source": []
  }
 ],
 "metadata": {
  "kernelspec": {
   "display_name": "Python 3",
   "language": "python",
   "name": "python3"
  },
  "language_info": {
   "codemirror_mode": {
    "name": "ipython",
    "version": 3
   },
   "file_extension": ".py",
   "mimetype": "text/x-python",
   "name": "python",
   "nbconvert_exporter": "python",
   "pygments_lexer": "ipython3",
   "version": "3.7.3"
  }
 },
 "nbformat": 4,
 "nbformat_minor": 2
}
