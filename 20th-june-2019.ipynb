{
 "cells": [
  {
   "cell_type": "markdown",
   "metadata": {},
   "source": [
    "\n",
    "# Day Objectives\n",
    "\n",
    "# Regular Expressions\n",
    "Constructing Regular Expressions for various use cases\n",
    "Regular Expressions Module and related in Python\n",
    "Improving the Contacts application with name and phone number validation using regular expressions\n",
    "File Handling\n",
    "Text Files\n",
    "Upgrading the Contacts Application to store contact information in a text file\n",
    "In [ ]:\n",
    "\n",
    "Regular Expressions\n",
    "Pattern Matching\n",
    "Symbolic Notation of a pattern\n",
    "Pattern : Format which repeats\n",
    "Pattern(RE) represents The set of all values that match a pattern\n",
    "[0-9] -> Any digit\n",
    "[a-z] -> Any lower case alphabet\n",
    "[2468] -> All single digit multiples of 2\n",
    "^[0-9]{1}$ Only single digit numbers\n",
    "\n",
    "^[0-9]{3}$ Only 3 digit numbers\n",
    "\n",
    "[0-9]*0$ -> All multiples of 10\n",
    "\n",
    "^([1-9][0-9]*[05])$|^([5])$ -> All multiples of 5\n",
    "\n",
    "-> All 10 digit numbers\n",
    "\n",
    "[w][o][r][d] or (word) -> Searching for a 'word'\n",
    "\n",
    "^[6-9][0-9]{9}$|^[0][6-9][0-9]{9}|^[+][9][1][6-9][0-9]{9}$ -> Validating Phone number(India)(start with 9876 followed by 9 digits)\n",
    "\n",
    "\n",
    "\n"
   ]
  },
  {
   "cell_type": "markdown",
   "metadata": {},
   "source": [
    "Email Validation(username@domain.extension\n",
    "\n",
    "-> ^[0-9a-z][0-9a-z_.]{4,13}[0-9a-z][@][a-z]{3,18}[.][a-z]{2,4}$\n",
    "\n",
    "-> ^[0-9a-z][0-9a-z_.]{4,13}[0-9a-z][@][a-z]{3,18}[.][a-z]{2,3}$\n",
    "\n",
    "- username -> ^[0-9a-z][0-9a-z_.]{4,13}[0-9a-z]\n",
    "        - Length of username: [6, 15]\n",
    "        - No special characers other than _ . \n",
    "        - should not begin and end with _ .\n",
    "        - Character set: all digits and lower case alphabet\n",
    "- domain -> +@+[a-z]{3,18}\n",
    "        - Length of domain: [3, 18] \n",
    "        - No special characters \n",
    "        - Character Set: lower case alphabet \n",
    "- extension -> .[a-z]{2,4}$ \n",
    "        - Length of extension: [2, 4] \n",
    "        - No special characters \n",
    "        - Character set: lower case alphabet\n",
    "\n",
    "[4628] -> single digit multiples of 2\n",
    "\n",
    "[8624] -> single digit multiples of 2\n",
    "\n",
    "[p][r][i][n][t] or (print) ->searching for a specific word 'print'\n",
    "\n",
    "[p][r][i][n][t]$ -> searching for a word at the end of the string\n",
    "\n",
    "^[a]...[z]$ -> Any string of length 5 starts with 'a' and end with 'z'\n",
    "\n",
    "^[a].*[z]$ -> Any string of any length starts with 'a' and ends with 'z'"
   ]
  },
  {
   "cell_type": "code",
   "execution_count": 1,
   "metadata": {},
   "outputs": [
    {
     "name": "stdout",
     "output_type": "stream",
     "text": [
      "Valid number\n"
     ]
    }
   ],
   "source": [
    "# Function to validate a phone number\n",
    "import re\n",
    "\n",
    "def phoneNumberValidator(number):\n",
    "   pattern='^[6-9][0-9]{9}$|^[0][6-9][0-9]{9}$'\n",
    "   if re.match(pattern,number):\n",
    "       print(\"Valid number\")\n",
    "   else:\n",
    "       print(\"Invalid Number\")\n",
    "   return\n",
    "phoneNumberValidator('9490349475')\n"
   ]
  },
  {
   "cell_type": "code",
   "execution_count": 2,
   "metadata": {},
   "outputs": [
    {
     "data": {
      "text/plain": [
       "True"
      ]
     },
     "execution_count": 2,
     "metadata": {},
     "output_type": "execute_result"
    }
   ],
   "source": [
    "def emailValidator(email):\n",
    "   pattern=\"^[0-9a-z][0-9a-z_.]{4,13}[0-9a-z][@][a-z]{3,18}[.][a-z]{2,3}$\"\n",
    "   if re.match(pattern,email):\n",
    "       return True\n",
    "   return False\n",
    "emailValidator(\"re_12345@gmail.com\")\n"
   ]
  },
  {
   "cell_type": "code",
   "execution_count": 3,
   "metadata": {},
   "outputs": [
    {
     "name": "stdout",
     "output_type": "stream",
     "text": [
      "name1 already exists.\n"
     ]
    }
   ],
   "source": [
    "contacts={\"name1\":[9876543210, 'name1@domain.ext'],}\n",
    "def addContact(name,phone,email):\n",
    "   if name in contacts:\n",
    "       print(name,\"already exists.\")\n",
    "   else:\n",
    "       if not phoneNumberValidator(phone):\n",
    "           print(\"Invalid phone number\")\n",
    "           return\n",
    "       if not emailValidator(email):\n",
    "           print(\"Invalid Email address\")\n",
    "           return\n",
    "       newcontact=[]\n",
    "       newcontact.append(phone)\n",
    "       newcontact.append(email)\n",
    "       contacts[name]=newcontact\n",
    "       print(name,\"added successfully\")\n",
    "   return\n",
    "addContact(\"name1\",9876543210,\"name1@gmail.com\")\n",
    "    "
   ]
  },
  {
   "cell_type": "code",
   "execution_count": 4,
   "metadata": {},
   "outputs": [
    {
     "name": "stdout",
     "output_type": "stream",
     "text": [
      "name1\n",
      "phone : 9876543210\n",
      "Email : name1@domain.ext\n"
     ]
    }
   ],
   "source": [
    "def searchContacts(name):\n",
    "   if name in contacts:\n",
    "       print(name)\n",
    "       print(\"phone :\",contacts[name][0])\n",
    "       print(\"Email :\", contacts[name][1])\n",
    "   else:\n",
    "       print(\"%s does not exist\" % name)\n",
    "   return\n",
    "searchContacts(\"name1\")"
   ]
  },
  {
   "cell_type": "code",
   "execution_count": 6,
   "metadata": {},
   "outputs": [
    {
     "ename": "SyntaxError",
     "evalue": "EOL while scanning string literal (<ipython-input-6-6110eccfe28e>, line 3)",
     "output_type": "error",
     "traceback": [
      "\u001b[1;36m  File \u001b[1;32m\"<ipython-input-6-6110eccfe28e>\"\u001b[1;36m, line \u001b[1;32m3\u001b[0m\n\u001b[1;33m    print(contact, \"\\n\", \"Phone :\", info[0],\"\\\")\u001b[0m\n\u001b[1;37m                                                ^\u001b[0m\n\u001b[1;31mSyntaxError\u001b[0m\u001b[1;31m:\u001b[0m EOL while scanning string literal\n"
     ]
    }
   ],
   "source": [
    "def ListAllContacts():\n",
    "   for contact, info in contacts.items():\n",
    "       print(contact, \"\\n\", \"Phone :\", info[0],\"\\\")\n",
    "contacts={\"name1\":[9876543210, 'name1@domain.ext'],}"
   ]
  },
  {
   "cell_type": "code",
   "execution_count": 7,
   "metadata": {},
   "outputs": [
    {
     "ename": "TypeError",
     "evalue": "addContact() missing 1 required positional argument: 'email'",
     "output_type": "error",
     "traceback": [
      "\u001b[1;31m---------------------------------------------------------------------------\u001b[0m",
      "\u001b[1;31mTypeError\u001b[0m                                 Traceback (most recent call last)",
      "\u001b[1;32m<ipython-input-7-14b62f15255a>\u001b[0m in \u001b[0;36m<module>\u001b[1;34m\u001b[0m\n\u001b[0;32m      7\u001b[0m        \u001b[0mprint\u001b[0m\u001b[1;33m(\u001b[0m\u001b[1;34m\"phone number is invalid\"\u001b[0m\u001b[1;33m)\u001b[0m\u001b[1;33m\u001b[0m\u001b[1;33m\u001b[0m\u001b[0m\n\u001b[0;32m      8\u001b[0m    \u001b[1;32mreturn\u001b[0m\u001b[1;33m\u001b[0m\u001b[1;33m\u001b[0m\u001b[0m\n\u001b[1;32m----> 9\u001b[1;33m \u001b[0maddContact\u001b[0m\u001b[1;33m(\u001b[0m\u001b[1;34m\"name1\"\u001b[0m\u001b[1;33m,\u001b[0m\u001b[1;36m9876543210\u001b[0m\u001b[1;33m)\u001b[0m\u001b[1;33m\u001b[0m\u001b[1;33m\u001b[0m\u001b[0m\n\u001b[0m",
      "\u001b[1;31mTypeError\u001b[0m: addContact() missing 1 required positional argument: 'email'"
     ]
    }
   ],
   "source": [
    "def addContact(name,phone,email):\n",
    "   # verify that the contact does not already exists\n",
    "   if name not in contacts and phoneNumberValidator(phone):\n",
    "       contacts[name]=phone\n",
    "       print(\"contact %s is added\" % name)\n",
    "   if not phoneNumberValidator(phone):\n",
    "       print(\"phone number is invalid\")\n",
    "   return\n",
    "addContact(\"name1\",9876543210)"
   ]
  },
  {
   "cell_type": "markdown",
   "metadata": {},
   "source": []
  },
  {
   "cell_type": "code",
   "execution_count": null,
   "metadata": {},
   "outputs": [],
   "source": []
  }
 ],
 "metadata": {
  "kernelspec": {
   "display_name": "Python 3",
   "language": "python",
   "name": "python3"
  },
  "language_info": {
   "codemirror_mode": {
    "name": "ipython",
    "version": 3
   },
   "file_extension": ".py",
   "mimetype": "text/x-python",
   "name": "python",
   "nbconvert_exporter": "python",
   "pygments_lexer": "ipython3",
   "version": "3.7.3"
  }
 },
 "nbformat": 4,
 "nbformat_minor": 2
}
