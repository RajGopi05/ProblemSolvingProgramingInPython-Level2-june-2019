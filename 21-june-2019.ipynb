{
 "cells": [
  {
   "cell_type": "code",
   "execution_count": 29,
   "metadata": {},
   "outputs": [
    {
     "name": "stdout",
     "output_type": "stream",
     "text": [
      "gopiraju added to contacts\n"
     ]
    }
   ],
   "source": [
    "#function to add contact to contacts text fil\n",
    "\n",
    "from packages import validators\n",
    "def addContacts(name,phone,email):\n",
    "    #store data as name,phone,email in the contacts \n",
    "    filename='DataFiles/contacts.txt'\n",
    "    with open(filename,'a') as f:\n",
    "        line=name+','+str(phone)+','+email+'/n'\n",
    "        f.write(line)\n",
    "    print(name,'added to contacts')\n",
    "    return\n",
    "addContacts(\"gopiraju\",9951143720,\"gopiraju.ch@apssdc.in\",)"
   ]
  },
  {
   "cell_type": "code",
   "execution_count": 15,
   "metadata": {},
   "outputs": [
    {
     "name": "stdout",
     "output_type": "stream",
     "text": [
      "True\n",
      "<re.Match object; span=(0, 5), match='name1'>\n"
     ]
    }
   ],
   "source": [
    "\n"
   ]
  },
  {
   "cell_type": "code",
   "execution_count": 51,
   "metadata": {},
   "outputs": [],
   "source": [
    "fname='DataFiles/newcontacts.txt'\n",
    "f=open(fname,'a')\n",
    "f.write(\"\\nRani,8500693237,rani@gmail.com\")\n",
    "f.close()"
   ]
  },
  {
   "cell_type": "code",
   "execution_count": 52,
   "metadata": {},
   "outputs": [
    {
     "name": "stdout",
     "output_type": "stream",
     "text": [
      "['\\n', 'Raju,9951143720,raj@gmail.com\\n', 'Rani,8500693237,rani@gmail.com']\n"
     ]
    }
   ],
   "source": [
    "with open (fname,'r') as f:\n",
    "    print(f.readlines())"
   ]
  },
  {
   "cell_type": "code",
   "execution_count": 61,
   "metadata": {},
   "outputs": [
    {
     "name": "stdout",
     "output_type": "stream",
     "text": [
      "['\\n', 'Raju,9951143720,raj@gmail.com\\n', 'Rani,8500693237,rani@gmail.com\\n', 'Rani,8500693237,rani@gmail.com\\n', 'Rani,8500693237,rani@gmail.com\\n', 'Rani,8500693237,rani@gmail.com\\n', 'Rani,8500693237,rani@gmail.com']\n"
     ]
    }
   ],
   "source": [
    "\n",
    "fname='DataFiles/newcontacts.txt'\n",
    "f=open(fname,'a')\n",
    "f.write(\"\\nRani,8500693237,rani@gmail.com\")\n",
    "f.close()\n",
    "\n",
    "def listcontacts(fname):\n",
    "    with open (fname,'r') as f:\n",
    "        print(f.readlines())\n",
    "listcontacts(fname)"
   ]
  },
  {
   "cell_type": "markdown",
   "metadata": {},
   "source": [
    "# packages practicing"
   ]
  },
  {
   "cell_type": "code",
   "execution_count": 88,
   "metadata": {},
   "outputs": [
    {
     "name": "stdout",
     "output_type": "stream",
     "text": [
      "\n",
      "Raju,9951143720,raj@gmail.com\n",
      "Rani,8500693237,rani@gmail.com\n",
      "Rani,8500693237,rani@gmail.com\n",
      "Rani,8500693237,rani@gmail.com\n",
      "Rani,8500693237,rani@gmail.com\n",
      "Rani,8500693237,rani@gmail.com\n"
     ]
    }
   ],
   "source": [
    "#open and read the file \n",
    "fname='DataFiles/newcontacts.txt'  #give files path where it is located\n",
    "\n",
    "f=open(fname,\"r\")                 #open the file in read mode\n",
    "\n",
    "print(f.read())                 #read the file and print the content in that file"
   ]
  },
  {
   "cell_type": "markdown",
   "metadata": {},
   "source": [
    "# Read Only Parts of the File\n",
    "# By default the read() method returns the whole text, but you can also specify how many characters you want to return:\n",
    "\n"
   ]
  },
  {
   "cell_type": "code",
   "execution_count": 93,
   "metadata": {},
   "outputs": [
    {
     "name": "stdout",
     "output_type": "stream",
     "text": [
      "\n",
      "Raju,9951143720\n"
     ]
    }
   ],
   "source": [
    "f=open(fname,\"r\")\n",
    "print(f.read(16))"
   ]
  },
  {
   "cell_type": "markdown",
   "metadata": {},
   "source": [
    "# Read Lines\n",
    "# You can return one line by using the readline() method:"
   ]
  },
  {
   "cell_type": "code",
   "execution_count": 133,
   "metadata": {},
   "outputs": [
    {
     "name": "stdout",
     "output_type": "stream",
     "text": [
      "\n",
      "Raju,9951143720,raj@gmail.com\n",
      "Rani,8500693237,rani@gmail.com\n",
      "Rani,8500693237,rani@gmail.com\n",
      "Rani,8500693237,rani@gmail.com\n",
      "Rani,8500693237,rani@gmail.com\n",
      "Rani,8500693237,rani@gmail.comwelcome to files concept in python!welcome to files concept in python!welcome to files concept in python!welcome to files concept in python!welcome to files concept in python!\n"
     ]
    }
   ],
   "source": [
    "f=open(fname,\"r\")\n",
    "print(f.read())"
   ]
  },
  {
   "cell_type": "markdown",
   "metadata": {},
   "source": [
    "# Write to an Existing File\n",
    "# To write to an existing file, you must add a parameter to the open() function:\n",
    "\n",
    "# \"a\" - Append - will append to the end of the file\n",
    "\n",
    "# \"w\" - Write - will overwrite any existing content"
   ]
  },
  {
   "cell_type": "code",
   "execution_count": 134,
   "metadata": {},
   "outputs": [
    {
     "name": "stdout",
     "output_type": "stream",
     "text": [
      "\n",
      "Raju,9951143720,raj@gmail.com\n",
      "Rani,8500693237,rani@gmail.com\n",
      "Rani,8500693237,rani@gmail.com\n",
      "Rani,8500693237,rani@gmail.com\n",
      "Rani,8500693237,rani@gmail.com\n",
      "Rani,8500693237,rani@gmail.comwelcome to files concept in python!welcome to files concept in python!welcome to files concept in python!welcome to files concept in python!welcome to files concept in python!welcome to files concept in python!\n"
     ]
    }
   ],
   "source": [
    "f=open(fname,\"a\")      #append the data to a existring file\n",
    "f.write(\"welcome to files concept in python!\")\n",
    "f.close()\n",
    "f=open(fname,\"r\")\n",
    "print(f.read())\n"
   ]
  },
  {
   "cell_type": "code",
   "execution_count": 137,
   "metadata": {},
   "outputs": [
    {
     "name": "stdout",
     "output_type": "stream",
     "text": [
      "13\n"
     ]
    },
    {
     "data": {
      "text/plain": [
       "'\\nRaju,9951143720,raj@gmail.com\\nRani,8500693237,rani@gmail.com\\nRani,8500693237,rani@gmail.com\\nRani,8500693237,rani@gmail.com\\nRani,8500693237,rani@gmail.com\\nRani,8500693237,rani@gmail.comwelcome to files concept in python!welcome to files concept in python!welcome to files concept in python!welcome to files concept in python!welcome to files concept in python!welcome to files concept in python!hiii everyonehiii everyonehiii everyone'"
      ]
     },
     "execution_count": 137,
     "metadata": {},
     "output_type": "execute_result"
    }
   ],
   "source": [
    "f=open(fname,\"a\")\n",
    "print(f.write(\"hiii everyone\"))\n",
    "f.close()\n",
    "f=open(fname,'r')\n",
    "f.read()"
   ]
  },
  {
   "cell_type": "code",
   "execution_count": 139,
   "metadata": {},
   "outputs": [
    {
     "name": "stdout",
     "output_type": "stream",
     "text": [
      "remove all the data\n"
     ]
    }
   ],
   "source": [
    "# over write the content\n",
    "\n",
    "f=open(fname,'w')\n",
    "f.write(\"remove all the data\")\n",
    "f=open(fname,'r')\n",
    "print(f.read())\n",
    "\n"
   ]
  },
  {
   "cell_type": "code",
   "execution_count": 140,
   "metadata": {},
   "outputs": [
    {
     "name": "stdout",
     "output_type": "stream",
     "text": [
      "hello raja\n"
     ]
    }
   ],
   "source": [
    "f=open(fname,'w+')\n",
    "f.write(\"hello raja\")\n",
    "f=open(fname,'r')\n",
    "print(f.read())\n"
   ]
  },
  {
   "cell_type": "code",
   "execution_count": 141,
   "metadata": {},
   "outputs": [
    {
     "name": "stdout",
     "output_type": "stream",
     "text": [
      "Woops! I have deleted the content!\n"
     ]
    }
   ],
   "source": [
    "f = open(\"\", \"w\")\n",
    "f.write(\"Woops! I have deleted the content!\")\n",
    "f.close()\n",
    "\n",
    "#open and read the file after the appending:\n",
    "f = open(\"demofile3.txt\", \"r\")\n",
    "print(f.read())\n"
   ]
  },
  {
   "cell_type": "code",
   "execution_count": 151,
   "metadata": {},
   "outputs": [
    {
     "name": "stdout",
     "output_type": "stream",
     "text": [
      "38\n",
      "raja,9951143720,raja@gmail.com,chirala\n"
     ]
    }
   ],
   "source": [
    "\n",
    "f=open(fname,\"w\")\n",
    "raj=f.write(\"raja,9951143720,raja@gmail.com,chirala\")\n",
    "print(raj)\n",
    "f.close()\n",
    "f=open(fname,\"r\")\n",
    "print(f.read())"
   ]
  },
  {
   "cell_type": "code",
   "execution_count": 156,
   "metadata": {},
   "outputs": [
    {
     "name": "stdout",
     "output_type": "stream",
     "text": [
      "raja,9951143720,raja@gmail.com,chiralaraja,9951143720,raja@gmail.com,chiralaraja,9951143720,raja@gmail.com,chiralaraja,9951143720,raja@gmail.com,chiralaramu,9848022338,gopi@gmail.com,vetapalemramu,9848022338,gopi@gmail.com,vetapalem"
     ]
    }
   ],
   "source": [
    "f=open(fname,\"a\")\n",
    "raj=f.write(\"ramu,9848022338,gopi@gmail.com,vetapalem\")\n",
    "\n",
    "f.close()\n",
    "f=open(fname,\"r\")\n",
    "print(f.read(),end=\"\")"
   ]
  },
  {
   "cell_type": "code",
   "execution_count": null,
   "metadata": {},
   "outputs": [],
   "source": []
  }
 ],
 "metadata": {
  "kernelspec": {
   "display_name": "Python 3",
   "language": "python",
   "name": "python3"
  },
  "language_info": {
   "codemirror_mode": {
    "name": "ipython",
    "version": 3
   },
   "file_extension": ".py",
   "mimetype": "text/x-python",
   "name": "python",
   "nbconvert_exporter": "python",
   "pygments_lexer": "ipython3",
   "version": "3.7.3"
  }
 },
 "nbformat": 4,
 "nbformat_minor": 2
}
