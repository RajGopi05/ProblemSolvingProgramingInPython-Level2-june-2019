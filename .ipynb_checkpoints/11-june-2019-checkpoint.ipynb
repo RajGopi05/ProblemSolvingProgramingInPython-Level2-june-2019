{
 "cells": [
  {
   "cell_type": "markdown",
   "metadata": {},
   "source": [
    "\n",
    "## Markdown Basics\n",
    "\n",
    "* **BOLD**<br>\n",
    "* *Italic*<br>\n",
    "* ***IB*** <br>\n",
    "* **Normal Text**<br>\n",
    "    * Sublist 1\n",
    "    * Sublist 2\n",
    " \n",
    " \n",
    "\n",
    ">1. Ordered list element 1\n",
    ">2. Ordered list element 2\n",
    "\n",
    "\n",
    " A. Order\n",
    " B. Unordered\n",
    " \n",
    " [Jupyter Logo](jupyter.png)\n",
    " \n",
    " \n",
    " - [1]Option 1\n",
    " - [2]Option 2\n",
    " - [x] Option 3\n",
    " \n",
    " I get 10 times more traffic from [Google][] than from\n",
    "[Yahoo][] or [MSN][].\n",
    "\n",
    "  [google]: http://google.com/        \"Google\"\n",
    "  [yahoo]:  http://search.yahoo.com/  \"Yahoo Search\"\n",
    "  [msn]:    http://search.msn.com/    \"MSN Search\"\n",
    "  \n",
    "  `printf(\"hello markdown\")`\n",
    "  \n",
    "  <http://google.com>\n",
    "  \n",
    "  <markdown@google.com>\n",
    " \n",
    " <img src=\"jupyter.png\" style=\"float:left\">\n",
    "\n",
    "\n",
    "Displaying IMG20181215121459.jpg."
   ]
  },
  {
   "cell_type": "markdown",
   "metadata": {},
   "source": [
    "# Python Basics"
   ]
  },
  {
   "cell_type": "markdown",
   "metadata": {},
   "source": [
    "## python version 3.7\n",
    "* *Scripting*\n",
    "* *object oriented*\n"
   ]
  },
  {
   "cell_type": "code",
   "execution_count": 9,
   "metadata": {},
   "outputs": [
    {
     "name": "stdout",
     "output_type": "stream",
     "text": [
      "googd afternoon ! || hello python\n"
     ]
    }
   ],
   "source": [
    "# python comments\n",
    "\n",
    "print(\"googd afternoon\", \"!\",end=\" || \") # Basic output\n",
    "print(\"hello python\")"
   ]
  },
  {
   "cell_type": "markdown",
   "metadata": {},
   "source": []
  },
  {
   "cell_type": "markdown",
   "metadata": {},
   "source": [
    "  ### Assignment"
   ]
  },
  {
   "cell_type": "code",
   "execution_count": 10,
   "metadata": {},
   "outputs": [
    {
     "name": "stdout",
     "output_type": "stream",
     "text": [
      "123 234 345\n"
     ]
    },
    {
     "data": {
      "text/plain": [
       "123456"
      ]
     },
     "execution_count": 10,
     "metadata": {},
     "output_type": "execute_result"
    }
   ],
   "source": [
    "n1=123456 #single varible assignment\n",
    "\n",
    "n2=n3=n4=n1 # multi variable assignment of the \n",
    "\n",
    "a,b,c=123,234,345#multi variable assignment with different values\n",
    "\n",
    "print(a,b,c)\n",
    "\n",
    "n1\n",
    "\n",
    "n2\n"
   ]
  },
  {
   "cell_type": "markdown",
   "metadata": {},
   "source": []
  },
  {
   "cell_type": "markdown",
   "metadata": {},
   "source": [
    "### Airthmetic operation\n",
    "\n",
    "- +\n",
    "- -\n",
    "- *\n",
    "- /\n",
    "- %\n",
    "- **\n",
    "\n"
   ]
  },
  {
   "cell_type": "code",
   "execution_count": 12,
   "metadata": {},
   "outputs": [
    {
     "data": {
      "text/plain": [
       "str"
      ]
     },
     "execution_count": 12,
     "metadata": {},
     "output_type": "execute_result"
    }
   ],
   "source": [
    "n1 % 11\n",
    "\n",
    "n3=n2 ** 123\n",
    "\n",
    "type(n3)\n",
    "\n",
    "len(str(n3))\n",
    "\n",
    "atoms=10**82\n",
    "\n",
    "len(str(atoms))\n",
    "\n",
    "type(str(atoms))\n",
    "\n",
    "\n"
   ]
  },
  {
   "cell_type": "markdown",
   "metadata": {},
   "source": [
    "### Conditionals"
   ]
  },
  {
   "cell_type": "code",
   "execution_count": 17,
   "metadata": {},
   "outputs": [
    {
     "name": "stdout",
     "output_type": "stream",
     "text": [
      "false\n"
     ]
    }
   ],
   "source": [
    "atoms<10**9\n",
    "\n",
    "if atoms < 10 **9:\n",
    "    print(\"true\")\n",
    "else:\n",
    "    print(\"false\")"
   ]
  },
  {
   "cell_type": "code",
   "execution_count": 20,
   "metadata": {},
   "outputs": [
    {
     "name": "stdout",
     "output_type": "stream",
     "text": [
      "odd\n"
     ]
    }
   ],
   "source": [
    "#check if number is even\n",
    "\n",
    "n=123\n",
    "\n",
    "if n % 2 == 0:\n",
    "    print(\"even\")\n",
    "else:\n",
    "    print(\"odd\")"
   ]
  },
  {
   "cell_type": "code",
   "execution_count": 27,
   "metadata": {},
   "outputs": [
    {
     "name": "stdout",
     "output_type": "stream",
     "text": [
      "enter the first number323\n",
      "enter the second number434\n",
      "enter the 3rd number433\n",
      "434 is the greatest\n"
     ]
    }
   ],
   "source": [
    "#find the greastest of 3 numbers\n",
    "\n",
    "n1=int(input(\"enter the first number\"))\n",
    "\n",
    "n2=int(input(\"enter the second number\"))\n",
    "\n",
    "n3=int(input(\"enter the 3rd number\"))\n",
    "\n",
    "if n1 > n2 and n1 >  n3:\n",
    "    print(n1, \"is greatest\")\n",
    "elif n2 > n3:\n",
    "          print(n2, \"is the greatest\")\n",
    "else:\n",
    "     print(n3, \"is gratest\")\n",
    "                \n",
    "          "
   ]
  },
  {
   "cell_type": "code",
   "execution_count": null,
   "metadata": {},
   "outputs": [],
   "source": []
  },
  {
   "cell_type": "code",
   "execution_count": 46,
   "metadata": {},
   "outputs": [
    {
     "name": "stdout",
     "output_type": "stream",
     "text": [
      "enter a number1996\n",
      "is a leap year \n"
     ]
    }
   ],
   "source": [
    "#check if a year is a leap year or not\n",
    "n=int(input(\"enter a number\"))\n",
    "if (n%400==0 or n%100!=0) and (n%4==0):\n",
    "    print(\"is a leap year \")\n",
    "else:\n",
    "    print(\"is not not prime number\")\n",
    "\n"
   ]
  },
  {
   "cell_type": "code",
   "execution_count": null,
   "metadata": {},
   "outputs": [],
   "source": []
  },
  {
   "cell_type": "code",
   "execution_count": 49,
   "metadata": {},
   "outputs": [
    {
     "name": "stdout",
     "output_type": "stream",
     "text": [
      "enter a number13\n",
      "enter a number45\n",
      "enter a numbere60\n",
      "not in range\n"
     ]
    }
   ],
   "source": [
    "#check if a number exists in a given range(inclusive)\n",
    "\n",
    "n1=int(input(\"enter a number\"))\n",
    "lb=int(input(\"enter a number\"))\n",
    "ub=int(input(\"enter a numbere\"))\n",
    "if n1>=lb and n1<=ub:\n",
    "    print(\"exists in given range\")\n",
    "else:\n",
    "    print(\"not in range\")"
   ]
  },
  {
   "cell_type": "code",
   "execution_count": null,
   "metadata": {},
   "outputs": [],
   "source": [
    "#calculate the number of digits in a number"
   ]
  },
  {
   "cell_type": "code",
   "execution_count": null,
   "metadata": {},
   "outputs": [],
   "source": [
    "#check if a number is multiple of 10\n"
   ]
  },
  {
   "cell_type": "code",
   "execution_count": null,
   "metadata": {},
   "outputs": [],
   "source": [
    "#check if a number is factor of 1000\n"
   ]
  },
  {
   "cell_type": "code",
   "execution_count": null,
   "metadata": {},
   "outputs": [],
   "source": [
    "#check if given string is equal to a number"
   ]
  },
  {
   "cell_type": "code",
   "execution_count": null,
   "metadata": {},
   "outputs": [],
   "source": [
    "#calculate the square root of a number without any functions"
   ]
  },
  {
   "cell_type": "code",
   "execution_count": null,
   "metadata": {},
   "outputs": [],
   "source": [
    "#calculate the number of nano seconds in a given year(considering leap year logic)"
   ]
  }
 ],
 "metadata": {
  "kernelspec": {
   "display_name": "Python 3",
   "language": "python",
   "name": "python3"
  },
  "language_info": {
   "codemirror_mode": {
    "name": "ipython",
    "version": 3
   },
   "file_extension": ".py",
   "mimetype": "text/x-python",
   "name": "python",
   "nbconvert_exporter": "python",
   "pygments_lexer": "ipython3",
   "version": "3.7.3"
  }
 },
 "nbformat": 4,
 "nbformat_minor": 2
}
