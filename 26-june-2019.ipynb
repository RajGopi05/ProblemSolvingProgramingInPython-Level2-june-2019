{
 "cells": [
  {
   "cell_type": "code",
   "execution_count": 11,
   "metadata": {},
   "outputs": [
    {
     "data": {
      "text/plain": [
       "5"
      ]
     },
     "execution_count": 11,
     "metadata": {},
     "output_type": "execute_result"
    }
   ],
   "source": [
    "def secondLargest(li):\n",
    "    #convert the list into a unique list\n",
    "    #O(n)\n",
    "    \n",
    "    unique=[]\n",
    "    for n in li:\n",
    "        if n not in unique:\n",
    "            unique.append(n)\n",
    "    unique=sorted(unique,reverse=True)\n",
    "    if len(unique)>1:\n",
    "        return unique[1]\n",
    "secondLargest([1,1,2,5,7,4,2])"
   ]
  },
  {
   "cell_type": "markdown",
   "metadata": {},
   "source": [
    "# ksmallest"
   ]
  },
  {
   "cell_type": "code",
   "execution_count": 27,
   "metadata": {},
   "outputs": [
    {
     "data": {
      "text/plain": [
       "2"
      ]
     },
     "execution_count": 27,
     "metadata": {},
     "output_type": "execute_result"
    }
   ],
   "source": [
    "def ksmallest(li,k):\n",
    "    #convert the list into a unique list\n",
    "    #O(n)\n",
    "    \n",
    "    unique=[]\n",
    "    for n in li:\n",
    "        if n not in unique:\n",
    "            unique.append(n)\n",
    "    unique=sorted(unique)\n",
    "    if len(unique)>=k:\n",
    "        return unique[k-1]\n",
    "    return -1\n",
    "ksmallest([2,3,9],1)"
   ]
  },
  {
   "cell_type": "code",
   "execution_count": 34,
   "metadata": {},
   "outputs": [
    {
     "data": {
      "text/plain": [
       "1"
      ]
     },
     "execution_count": 34,
     "metadata": {},
     "output_type": "execute_result"
    }
   ],
   "source": [
    "#function to identify element with high frequency \n",
    "#if many elements have highest frequency \n",
    "#highest frequency([1,2,3,9,8,7,3,4,2,1]---->1\n",
    "\n",
    "def highestFrequencyElement(li):\n",
    "    unique=[]\n",
    "    for n in li:\n",
    "        if n not in unique:\n",
    "            unique.append(n)\n",
    "    unique=sorted(unique,reverse=True)\n",
    "    if len(unique)>6:\n",
    "        return unique[6]\n",
    "    return unique([6])\n",
    "li=[1,2,3,9,8,7,3,4,2,1]\n",
    "highestFrequencyElement(li)\n"
   ]
  },
  {
   "cell_type": "markdown",
   "metadata": {},
   "source": [
    "# highestFrequencyElement"
   ]
  },
  {
   "cell_type": "code",
   "execution_count": 51,
   "metadata": {},
   "outputs": [
    {
     "data": {
      "text/plain": [
       "2"
      ]
     },
     "execution_count": 51,
     "metadata": {},
     "output_type": "execute_result"
    }
   ],
   "source": [
    "def highestFrequencyElement(li):\n",
    "    unique={}\n",
    "    for n in li:\n",
    "        if n in unique:\n",
    "            unique[n]+=1\n",
    "        else:\n",
    "            unique[n]=1\n",
    "# #getting all frequencies into a list\n",
    "# #unique={1:2,2:3,3:2,9:1,8:1,7:1,4:1}\n",
    "# maxfreq=max(unique.values())\n",
    "# #Extract sll keys with maximum frequency in a list\n",
    "# maxfreqkeys=[]\n",
    "# for item in unique.items():\n",
    "#     #item-->(key,value)\n",
    "#     #item[1]-->value\n",
    "#     #item[0]-->key\n",
    "#     if item[1]==maxfreq:\n",
    "#         maxfreqkeys.append(item[0])\n",
    "# #for smallest\n",
    "#     return min(maxfreqkeys)\n",
    "# highestFrequencyElement([1,2,3,9,8,7,3,4,2,1])\n",
    "    \n",
    "\n",
    "\n",
    "\n",
    "\n",
    "\n",
    "    freq=unique.values()\n",
    "    maxfreq=max(freq)\n",
    "    maxfreqE=[]\n",
    "#identify the smallestr number with maximum frequency\n",
    "    for item in unique.items():\n",
    "        if item[1]==maxfreq:\n",
    "            maxfreqE.append(item[0])\n",
    "#select the minimum from the key        \n",
    "    maxfreqE=sorted(maxfreqE,reverse=True)\n",
    "    return maxfreqE[2-1]    # minfreqE[k-1]\n",
    "highestFrequencyElement([1,2,3,9,8,7,3,4,2,1])\n",
    "    \n",
    "    \n",
    "    \n",
    "   "
   ]
  },
  {
   "cell_type": "markdown",
   "metadata": {},
   "source": [
    "# function to identify the second highest frequency element"
   ]
  },
  {
   "cell_type": "code",
   "execution_count": 53,
   "metadata": {},
   "outputs": [
    {
     "data": {
      "text/plain": [
       "2"
      ]
     },
     "execution_count": 53,
     "metadata": {},
     "output_type": "execute_result"
    }
   ],
   "source": [
    "#function to identify the second highest frequency element\n",
    "#if there are many elements \n",
    "#[1,2,3,2,1,4,4,9]\n",
    "\n",
    "def highestFrequencyElement(li):\n",
    "    unique={}\n",
    "    for n in li:\n",
    "        if n in unique:\n",
    "            unique[n]+=1\n",
    "        else:\n",
    "            unique[n]=1\n",
    "    freq=unique.values()\n",
    "    maxfreq=max(freq)\n",
    "    maxfreqE=[]\n",
    "\n",
    "    for item in unique.items():\n",
    "        if item[1]==maxfreq:\n",
    "            maxfreqE.append(item[0])       \n",
    "    maxfreqE=sorted(maxfreqE,reverse=True)\n",
    "    return maxfreqE[2-1]    # minfreqE[k-1]\n",
    "highestFrequencyElement([1,2,3,9,8,7,3,4,2,1])\n",
    "    "
   ]
  },
  {
   "cell_type": "code",
   "execution_count": 1,
   "metadata": {},
   "outputs": [
    {
     "data": {
      "text/plain": [
       "2"
      ]
     },
     "execution_count": 1,
     "metadata": {},
     "output_type": "execute_result"
    }
   ],
   "source": [
    "# Exam problems problem number 3(easy)  K-th largest Frequency for string\n",
    "def freqency_cal(s,k):\n",
    "    #unique characters for frequency\n",
    "    d={}\n",
    "    for i in range(0,len(s),1):\n",
    "        if s[i] in d:\n",
    "            d[s[i]]+=1\n",
    "        else:\n",
    "            d[s[i]]=1\n",
    "    return d\n",
    "def k_th_largest(values,d,k):\n",
    "    values=list(set(values))\n",
    "    values=sorted(values)\n",
    "    if k<=len(values):\n",
    "        sm=9999999999999\n",
    "        for i in range(0,len(s),1):\n",
    "            if d[s[i]]==values[-k]:\n",
    "                if sm>=ord(s[i]):\n",
    "                    sm=ord(s[i])\n",
    "        print(chr(sm))\n",
    "                \n",
    "    else:\n",
    "        print(-1)\n",
    "    \n",
    "t=int(input())\n",
    "for i in range(0,t,1):\n",
    "    s=input()\n",
    "    k=int(input())# Exam problems problem number 3(easy)  K-th largest Frequency for string\n",
    "def freqency_cal(s,k):\n",
    "    d={}\n",
    "    for i in range(0,len(s),1):\n",
    "        if s[i] in d:\n",
    "            d[s[i]]+=1\n",
    "        else:\n",
    "            d[s[i]]=1\n",
    "    return d\n",
    "def k_th_largest(values,d,k):\n",
    "    values=list(set(values))\n",
    "    values=sorted(values)\n",
    "    if k<=len(values):\n",
    "        sm=9999999999999\n",
    "        for i in range(0,len(s),1):\n",
    "            if d[s[i]]==values[-k]:\n",
    "                if sm>=ord(s[i]):\n",
    "                    sm=ord(s[i])\n",
    "        print(chr(sm))\n",
    "                \n",
    "    else:\n",
    "        print(-1)\n",
    "    \n",
    "t=int(input())\n",
    "for i in range(0,t,1):\n",
    "    s=input()\n",
    "    k=int(input())\n",
    "    d=freqency_cal(s,k)\n",
    "    values=[]\n",
    "    for key,value in d.items():\n",
    "        values=values+[d[key]]\n",
    "    #print(d)\n",
    "    \n",
    "    k_th_largest(values,d,k)\n",
    "\n",
    "    d=freqency_cal(s,k)\n",
    "    values=[]\n",
    "    for key,value in d.items():\n",
    "        values=values+[d[key]]\n",
    "    #print(d)\n",
    "    # Exam problems problem number 3(easy)  K-th largest Frequency for string\n",
    "def freqency_cal(s,k):\n",
    "    d={}\n",
    "    for i in range(0,len(s),1):\n",
    "        if s[i] in d:\n",
    "            d[s[i]]+=1\n",
    "        else:\n",
    "            d[s[i]]=1\n",
    "    return d\n",
    "def k_th_largest(values,d,k):\n",
    "    values=list(set(values))\n",
    "    values=sorted(values)\n",
    "    if k<=len(values):\n",
    "        sm=9999999999999\n",
    "        for i in range(0,len(s),1):\n",
    "            if d[s[i]]==values[-k]:\n",
    "                if sm>=ord(s[i]):\n",
    "                    sm=ord(s[i])\n",
    "        print(chr(sm))\n",
    "                \n",
    "    else:\n",
    "        print(-1)\n",
    "    \n",
    "t=int(input())\n",
    "for i in range(0,t,1):\n",
    "    s=input()\n",
    "    k=int(input())\n",
    "    d=freqency_cal(s,k)\n",
    "    values=[]\n",
    "    for key,value in d.items():\n",
    "        values=values+[d[key]]\n",
    "    #print(d)\n",
    "    \n",
    "    k_th_largest(values,d,k)\n",
    "\n",
    "    k_th_largest(values,d,k)\n"
   ]
  },
  {
   "cell_type": "markdown",
   "metadata": {},
   "source": [
    "\n",
    "   # kth-highest-frequency"
   ]
  },
  {
   "cell_type": "code",
   "execution_count": 20,
   "metadata": {},
   "outputs": [
    {
     "name": "stdout",
     "output_type": "stream",
     "text": [
      "s\n",
      "g\n",
      "h\n",
      "e\n",
      "w\n",
      "r\n",
      "n\n",
      "k\n",
      "-1\n",
      "-1\n"
     ]
    }
   ],
   "source": [
    "\n",
    "\n",
    "def khighestfrequency(s,k):\n",
    "    \n",
    "    \n",
    "   #unique characters with freq in a dictionary\n",
    "    unique={}\n",
    "    for i in s:\n",
    "        if i not in unique:\n",
    "            unique[i]=1\n",
    "        else:\n",
    "            unique[i]+=1  \n",
    "   #{9: 2, 7: 6, 6: 4, 5: 1, 2: 1, 3: 1, 4: 1}    \n",
    "   #Extract all unique frequencies in a list\n",
    "    l=[]\n",
    "    for value in unique.values():\n",
    "        if value not in l:\n",
    "            l.append(value)\n",
    "       \n",
    "    l=sorted(l,reverse=True)\n",
    "    if len(l)>k:\n",
    "        kfreq=l[k-1]\n",
    "    else:\n",
    "        return -1\n",
    "    kfreqchar=[]\n",
    "    for key in unique.items():\n",
    "        if key[1]==kfreq:\n",
    "            kfreqchar.append(key[0])\n",
    "    return min(kfreqchar)\n",
    "with open('DataFiles/kth-highest-frequency.txt','r') as f:\n",
    "        t=int(f.readline())\n",
    "        for i in range(t):\n",
    "            s=f.readline()\n",
    "            k=int(f.readline())\n",
    "            print(khighestfrequency(s,k))\n",
    "\n",
    "\n"
   ]
  },
  {
   "cell_type": "code",
   "execution_count": null,
   "metadata": {},
   "outputs": [],
   "source": []
  },
  {
   "cell_type": "code",
   "execution_count": null,
   "metadata": {},
   "outputs": [],
   "source": []
  },
  {
   "cell_type": "code",
   "execution_count": 37,
   "metadata": {},
   "outputs": [
    {
     "name": "stdout",
     "output_type": "stream",
     "text": [
      "c . gopi\n"
     ]
    }
   ],
   "source": [
    "s=\"gopi chaju\"\n",
    "len(s)\n",
    "s[5]\n",
    "print(s[5],\".\",s[0:4])\n"
   ]
  },
  {
   "cell_type": "code",
   "execution_count": 25,
   "metadata": {},
   "outputs": [
    {
     "name": "stdout",
     "output_type": "stream",
     "text": [
      "s[5].s[0:3]\n"
     ]
    }
   ],
   "source": []
  },
  {
   "cell_type": "code",
   "execution_count": null,
   "metadata": {},
   "outputs": [],
   "source": []
  }
 ],
 "metadata": {
  "kernelspec": {
   "display_name": "Python 3",
   "language": "python",
   "name": "python3"
  },
  "language_info": {
   "codemirror_mode": {
    "name": "ipython",
    "version": 3
   },
   "file_extension": ".py",
   "mimetype": "text/x-python",
   "name": "python",
   "nbconvert_exporter": "python",
   "pygments_lexer": "ipython3",
   "version": "3.7.3"
  }
 },
 "nbformat": 4,
 "nbformat_minor": 2
}
