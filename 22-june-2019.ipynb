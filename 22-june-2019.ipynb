{
 "cells": [
  {
   "cell_type": "markdown",
   "metadata": {},
   "source": [
    "### Date:22 june 2019\n",
    "\n",
    "## Day objectives\n",
    "\n",
    "- File Handling\n",
    "    - Basic File data processing\n",
    "        - Accessing and modifying the file data\n",
    "    - Character Count\n",
    "    \n",
    "    - line Count\n",
    "    \n",
    "    - File Size\n",
    "    \n",
    "    - word Count\n",
    "    \n",
    "    - unique word Count\n",
    "    \n",
    "    "
   ]
  },
  {
   "cell_type": "code",
   "execution_count": 6,
   "metadata": {},
   "outputs": [
    {
     "name": "stdout",
     "output_type": "stream",
     "text": [
      "hello\n",
      "python\n",
      "\n"
     ]
    }
   ],
   "source": [
    "# Read a file _______file shoud exist(Read mode)\n",
    "\n",
    "# Write to a File______file existing(append mode) or new file(write mode)\n",
    "\n",
    "def readFile(filePath):\n",
    "    with open(filePath,\"r\") as f:\n",
    "        filedata=f.read()\n",
    "    return filedata\n",
    "filePath=\"DataFiles/1.txt\"\n",
    "print(readFile(filePath))\n",
    "        \n"
   ]
  },
  {
   "cell_type": "code",
   "execution_count": null,
   "metadata": {},
   "outputs": [],
   "source": []
  },
  {
   "cell_type": "code",
   "execution_count": 48,
   "metadata": {},
   "outputs": [
    {
     "name": "stdout",
     "output_type": "stream",
     "text": [
      "35 hello python/n how can i learn you \n"
     ]
    }
   ],
   "source": [
    "#write the data into a file\n",
    "\n",
    "f=open(filePath,\"w\")\n",
    "print(f.write(\"hello python/n how can i learn you \"),end=\" \")\n",
    "f=open(filePath,\"r\")\n",
    "print(f.read())"
   ]
  },
  {
   "cell_type": "code",
   "execution_count": null,
   "metadata": {},
   "outputs": [],
   "source": []
  },
  {
   "cell_type": "code",
   "execution_count": 49,
   "metadata": {},
   "outputs": [
    {
     "name": "stdout",
     "output_type": "stream",
     "text": [
      "27\n"
     ]
    }
   ],
   "source": [
    "#character count problem in files\n",
    "\n",
    "def Charcount(filePath):\n",
    "    with open(filePath,'r') as f:\n",
    "        count=0\n",
    "        for line in f.read():\n",
    "            if line.isalpha():\n",
    "                 count=count+1\n",
    "        return count\n",
    "filePath=\"DataFiles/1.txt\"\n",
    "print(Charcount(filePath))\n",
    "            \n",
    "        "
   ]
  },
  {
   "cell_type": "code",
   "execution_count": 54,
   "metadata": {},
   "outputs": [
    {
     "name": "stdout",
     "output_type": "stream",
     "text": [
      "6\n"
     ]
    }
   ],
   "source": [
    "#lines count program \n",
    "\n",
    "def lineCount(filePath):\n",
    "    with open(filePath,'r') as f:\n",
    "        filedata=f.read()\n",
    "        linecount=1\n",
    "        for line in filedata:\n",
    "            if line=='\\n':\n",
    "                linecount+=1\n",
    "        return linecount\n",
    "filePath='DataFiles/1.txt'\n",
    "print(lineCount(filePath))\n",
    "\n",
    "\n",
    "            "
   ]
  },
  {
   "cell_type": "code",
   "execution_count": 66,
   "metadata": {},
   "outputs": [
    {
     "name": "stdout",
     "output_type": "stream",
     "text": [
      "13\n"
     ]
    }
   ],
   "source": [
    "#wordCount program\n",
    "def wordCount(filePath):\n",
    "    with open(filePath,'r') as f:\n",
    "        filedata=f.read()\n",
    "        wordcount=1\n",
    "        for line in filedata:\n",
    "            if line.isspace():\n",
    "                wordcount+=1\n",
    "        return wordcount\n",
    "filePath=\"DataFiles/1.txt\"\n",
    "print(wordCount(filePath))\n"
   ]
  },
  {
   "cell_type": "code",
   "execution_count": 42,
   "metadata": {},
   "outputs": [
    {
     "name": "stdout",
     "output_type": "stream",
     "text": [
      "46\n"
     ]
    }
   ],
   "source": [
    "#finding file size\n",
    "\n",
    "import os\n",
    "#os.path.getsize\n",
    "filePath=\"DataFiles/1.txt\"\n",
    "f1=os.stat(filePath).st_size\n",
    "print(f1)"
   ]
  },
  {
   "cell_type": "code",
   "execution_count": 16,
   "metadata": {},
   "outputs": [
    {
     "data": {
      "text/plain": [
       "['data in line 1', '', 'data in line 2', '', 'data in line 3']"
      ]
     },
     "execution_count": 16,
     "metadata": {},
     "output_type": "execute_result"
    }
   ],
   "source": [
    "#function to read a file into a list of lines\n",
    "def readFilesIntoList(filePath):\n",
    "    with open(filepath,\"r\") as f:\n",
    "        filedata=f.read()\n",
    "        lines=filedata.split('\\n')\n",
    "    return lines\n",
    "filePath=\"DataFiles/1.txt\"\n",
    "readFilesIntoList(filePath)                          "
   ]
  },
  {
   "cell_type": "code",
   "execution_count": null,
   "metadata": {},
   "outputs": [],
   "source": []
  },
  {
   "cell_type": "code",
   "execution_count": 43,
   "metadata": {},
   "outputs": [
    {
     "data": {
      "text/plain": [
       "5"
      ]
     },
     "execution_count": 43,
     "metadata": {},
     "output_type": "execute_result"
    }
   ],
   "source": [
    "#charecter count\n",
    "def charCountFile(filePath):\n",
    "    count=len(readFilesIntoList(filePath))\n",
    "    return count\n",
    "filePath=\"DataFiles/1.txt\"\n",
    "charCountFile(filepath)"
   ]
  },
  {
   "cell_type": "code",
   "execution_count": null,
   "metadata": {},
   "outputs": [],
   "source": [
    "def wordCountFile(filePath):\n",
    "    patteren='[ \\n]'\n",
    "    filedata=readFile(filePath)\n",
    "    count=len(re.)\n",
    "    "
   ]
  },
  {
   "cell_type": "code",
   "execution_count": 36,
   "metadata": {},
   "outputs": [
    {
     "data": {
      "text/plain": [
       "3"
      ]
     },
     "execution_count": 36,
     "metadata": {},
     "output_type": "execute_result"
    }
   ],
   "source": [
    "#function to get unique elements in a list\n",
    "\n",
    "#example:-[1,2,3,3,2,1]->[1.2.3]\n",
    "\n",
    "#create a unique or empty unique list [1,2,3]\n",
    "\n",
    "def uniqueData(li):\n",
    "    #create an empty unique list\n",
    "    unique=[]\n",
    "    #for every't  element in the main list,\n",
    "    #check if it exits in the unique list.\n",
    "    #if it doesn't exist,add add it to unique liust.\n",
    "    #else if it is already exists,mpove on to the list\n",
    "    for element in li:\n",
    "        if element not in unique:\n",
    "            unique.append(element)\n",
    "    return unique\n",
    "li=[1,2,3,3,2,1]\n",
    "len(uniqueData(li))\n",
    "\n",
    "\n"
   ]
  },
  {
   "cell_type": "code",
   "execution_count": 72,
   "metadata": {},
   "outputs": [
    {
     "name": "stdout",
     "output_type": "stream",
     "text": [
      "['data', 'in', 'line', '1', 'data', 'in', 'line', '2', 'data', 'in', 'line', '3']\n",
      "['data', 'in', 'line', '1', '2', '3']\n"
     ]
    },
    {
     "data": {
      "text/plain": [
       "6"
      ]
     },
     "execution_count": 72,
     "metadata": {},
     "output_type": "execute_result"
    }
   ],
   "source": [
    "#count the number of words in a text file\n",
    "def uniqueWords(filePath):\n",
    "    count=0\n",
    "    filePath=\"DataFiles/1.txt\"\n",
    "    with open(filePath,\"r\") as f:\n",
    "        filedata=f.read().split()\n",
    "        print(filedata)\n",
    "        #create an empty unique list\n",
    "        unique=[]\n",
    "        #for every't  element in the main list,\n",
    "        #check if it exits in the unique list.\n",
    "        #if it doesn't exist,add add it to unique list.\n",
    "        #else if it is already exists,mpove on to the list\n",
    "        for element in filedata:\n",
    "            if element not in unique:\n",
    "                unique.append(element)\n",
    "                count+=1\n",
    "        print(unique)\n",
    "        return count\n",
    "        \n",
    "uniqueWords(filePath)\n"
   ]
  },
  {
   "cell_type": "markdown",
   "metadata": {},
   "source": [
    "# function to print the frequency count of all words in a file\n",
    "# frequency Distribution\n",
    "# data in line 1\n",
    "# data in line 2\n",
    "# data in line 3\n",
    "# o/p\n",
    "# data :3\n",
    "# in:3\n",
    "# line:3\n",
    "# 1:1\n",
    "# 2:1\n",
    "# 3:1"
   ]
  },
  {
   "cell_type": "code",
   "execution_count": 69,
   "metadata": {},
   "outputs": [
    {
     "name": "stdout",
     "output_type": "stream",
     "text": [
      "['data', 'in', 'line', '1', 'data', 'in', 'line', '2', 'data', 'in', 'line', '3']\n",
      "data :  3\n",
      "in :  3\n",
      "line :  3\n",
      "1 :  1\n",
      "2 :  1\n",
      "3 :  1\n"
     ]
    }
   ],
   "source": [
    "def frequencyCount(filepath): \n",
    "   count = {} \n",
    "   with open(filepath, \"r\") as f:\n",
    "       filedata = f.read().split()\n",
    "       print(filedata)\n",
    "       for i in filedata: \n",
    "           if i not in count: \n",
    "               count[i] = 1\n",
    "           else: \n",
    "               count[i] += 1\n",
    " \n",
    "   for key, value in count.items():\n",
    "       print (\"% s : % d\" %(key, value)) \n",
    "\n",
    "filepath = \"DataFiles/1.txt\"\n",
    "frequencyCount(filepath) \n",
    "\n",
    "\n",
    "            \n",
    "        \n",
    "            \n",
    "        \n",
    "        \n",
    "        \n"
   ]
  },
  {
   "cell_type": "code",
   "execution_count": null,
   "metadata": {},
   "outputs": [],
   "source": []
  },
  {
   "cell_type": "code",
   "execution_count": null,
   "metadata": {},
   "outputs": [],
   "source": []
  }
 ],
 "metadata": {
  "kernelspec": {
   "display_name": "Python 3",
   "language": "python",
   "name": "python3"
  },
  "language_info": {
   "codemirror_mode": {
    "name": "ipython",
    "version": 3
   },
   "file_extension": ".py",
   "mimetype": "text/x-python",
   "name": "python",
   "nbconvert_exporter": "python",
   "pygments_lexer": "ipython3",
   "version": "3.7.3"
  }
 },
 "nbformat": 4,
 "nbformat_minor": 2
}
