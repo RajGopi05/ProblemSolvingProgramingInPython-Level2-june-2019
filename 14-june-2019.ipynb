{
 "cells": [
  {
   "cell_type": "markdown",
   "metadata": {},
   "source": [
    "# Python Data Structures\n",
    "\n",
    "\n",
    "# List\n"
   ]
  },
  {
   "cell_type": "markdown",
   "metadata": {},
   "source": [
    "### Python Data Structures\n",
    "- Lists\n",
    "- Tuple\n",
    "- Dictionaries\n",
    "- Basic Problem set on Data Structures\n",
    "- Advanced Problem set\n",
    "- Packages and modules in python"
   ]
  },
  {
   "cell_type": "code",
   "execution_count": null,
   "metadata": {},
   "outputs": [],
   "source": [
    "li = [123,978,654]\n",
    "li  #Accesing the listt\n",
    "\n",
    "li[1]   #accessing the second eliment with index in the list\n",
    "\n",
    "li[1:]  #Accessing all elements from second to last element\n",
    "\n",
    "li[::-1] #Accessing the list in a reverse order\n",
    "\n",
    "li=li[::-1]  #Accessing the list in reverse order\n",
    "\n",
    "li\n",
    "\n",
    "li[::2]  #Accessing all even index elements\n",
    "\n",
    "li[1::2]  #Acceing all odd index elements\n",
    "\n",
    "#lists can be access and manipulate in two different ways\n",
    "#1.Direct Referencing\n",
    "#2.InDirect Reperencing\n",
    "\n",
    "\n",
    "#Adding element to the end of the list\n",
    "\n",
    "li.append(345)\n",
    "\n",
    "li\n",
    "\n",
    "#adding an element in a perticular position\n",
    "li.insert(1,234)\n",
    "\n",
    "#sort Elements in  asscending order\n",
    "\n",
    "li.sort()\n",
    "\n",
    "#remove last elemnts in a list\n",
    "\n",
    "li.pop()\n",
    "\n",
    "#remove an element at a perticular index\n",
    "\n",
    "li.pop(1)\n",
    "\n",
    "\n",
    "list1=[123,234,456]   #list1\n",
    "\n",
    "list2=[344,455,556]   #list2\n",
    "\n",
    "list1.extend(list2)  #merge list2 into list 1\n",
    "\n",
    "list1\n"
   ]
  },
  {
   "cell_type": "code",
   "execution_count": 45,
   "metadata": {},
   "outputs": [
    {
     "data": {
      "text/plain": [
       "361.3333333333333"
      ]
     },
     "execution_count": 45,
     "metadata": {},
     "output_type": "execute_result"
    }
   ],
   "source": [
    "#average of elemnts in a given list\n",
    "\n",
    "list1\n",
    "\n",
    "sum(list1)\n",
    "\n",
    "len(list1)\n",
    "\n",
    "sum(list1)/len(list1)"
   ]
  },
  {
   "cell_type": "code",
   "execution_count": 50,
   "metadata": {},
   "outputs": [
    {
     "data": {
      "text/plain": [
       "344.6666666666667"
      ]
     },
     "execution_count": 50,
     "metadata": {},
     "output_type": "execute_result"
    }
   ],
   "source": [
    "#average of all alternate elements\n",
    "\n",
    "sum(list1[::2])/len(list1[::2])\n",
    "\n",
    "\n"
   ]
  },
  {
   "cell_type": "code",
   "execution_count": 108,
   "metadata": {},
   "outputs": [
    {
     "data": {
      "text/plain": [
       "4"
      ]
     },
     "execution_count": 108,
     "metadata": {},
     "output_type": "execute_result"
    }
   ],
   "source": [
    "#function to identify the second largest element in a list\n",
    "\n",
    "#solutions for this problem\n",
    "#1.sort the data and select the second largest\n",
    "\n",
    "#2.sort the data in reverse order,and select the second largest\n",
    "\n",
    "#3.remove the max element and then get the second max element\n",
    "\n",
    "#\n",
    "\n",
    "list1 = [10, 20, 4, 45, 99] \n",
    "\n",
    "def secondLargest(list1):\n",
    "    list1.sort()\n",
    "    return list1[-2]\n",
    "\n",
    "def genericLargest(list1,n):\n",
    "    list1.sort()\n",
    "    return list1[-n]\n",
    "\n",
    "secondLargest(list1)\n",
    "genericLargest(list1,5)\n",
    "\n",
    "\n"
   ]
  },
  {
   "cell_type": "code",
   "execution_count": 127,
   "metadata": {},
   "outputs": [
    {
     "data": {
      "text/plain": [
       "1"
      ]
     },
     "execution_count": 127,
     "metadata": {},
     "output_type": "execute_result"
    }
   ],
   "source": [
    "#function to search for a data in a list\n",
    "#search for the key in the list and return the index\n",
    "\n",
    "list1=[1,3,4,5,7]\n",
    "def linearSearch(list1,key):                 #first solution\n",
    "    for index in range(0, len(list1)):\n",
    "        if list1[index]==key:\n",
    "            return index\n",
    "    return -1\n",
    "\n",
    "def linearSearch2(list1,key):               #second solution\n",
    "    for element in list1:\n",
    "        if element ==key:\n",
    "            return list1.index(element)\n",
    "    return -1\n",
    "linearSearch(list1,7)\n",
    "linearSearch2(list1,4)\n",
    "\n",
    "def linearSearch3(list1,key):           #third solution\n",
    "    if key in list1:\n",
    "        return list1.index(key)\n",
    "    return -1\n",
    "linearSearch3(list1,3)\n",
    "\n",
    "    \n",
    "        "
   ]
  },
  {
   "cell_type": "code",
   "execution_count": 130,
   "metadata": {},
   "outputs": [
    {
     "data": {
      "text/plain": [
       "2"
      ]
     },
     "execution_count": 130,
     "metadata": {},
     "output_type": "execute_result"
    }
   ],
   "source": [
    "#function to count the occurences of a character in a string \n",
    "#\"python programming\",m->2\n",
    "\n",
    "def countOccurences(string,substring):\n",
    "    count=0\n",
    "    for ch in string:\n",
    "        if ch==substring:\n",
    "            count=count+1\n",
    "    return count\n",
    "\n",
    "def countCharOccurences2(string,substring):\n",
    "    return string.count(substring)\n",
    "countCharOccurences2(\"python programming\",\"o\")\n",
    "\n",
    "\n",
    "        \n"
   ]
  },
  {
   "cell_type": "code",
   "execution_count": 134,
   "metadata": {},
   "outputs": [
    {
     "data": {
      "text/plain": [
       "1"
      ]
     },
     "execution_count": 134,
     "metadata": {},
     "output_type": "execute_result"
    }
   ],
   "source": [
    "#function to find the number of occurences\n",
    "#\"abcabcddcba\",\"ab\"->2\n",
    "\n",
    "def countCharOccurences2(string,substring):\n",
    "    return string.count(substring)\n",
    "countCharOccurences2(\"abcabcddcba\",\"dc\")\n"
   ]
  },
  {
   "cell_type": "code",
   "execution_count": 137,
   "metadata": {},
   "outputs": [
    {
     "data": {
      "text/plain": [
       "2"
      ]
     },
     "execution_count": 137,
     "metadata": {},
     "output_type": "execute_result"
    }
   ],
   "source": [
    "#function to find the number of occurences\n",
    "#\"abcabcddcbaaaa\",\"ab\"->2\n",
    "\n",
    "\n",
    "def occ(string,substring):\n",
    "     return string.count(substring)\n",
    "occ(\"abcabcddcbaaaa\",\"aa\")\n",
    "\n",
    "    "
   ]
  },
  {
   "cell_type": "code",
   "execution_count": null,
   "metadata": {},
   "outputs": [],
   "source": []
  }
 ],
 "metadata": {
  "kernelspec": {
   "display_name": "Python 3",
   "language": "python",
   "name": "python3"
  },
  "language_info": {
   "codemirror_mode": {
    "name": "ipython",
    "version": 3
   },
   "file_extension": ".py",
   "mimetype": "text/x-python",
   "name": "python",
   "nbconvert_exporter": "python",
   "pygments_lexer": "ipython3",
   "version": "3.7.3"
  }
 },
 "nbformat": 4,
 "nbformat_minor": 2
}
