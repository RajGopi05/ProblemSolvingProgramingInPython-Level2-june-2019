{
 "cells": [
  {
   "cell_type": "code",
   "execution_count": 4,
   "metadata": {},
   "outputs": [
    {
     "name": "stdout",
     "output_type": "stream",
     "text": [
      "0 2 1 0 0 2 0 1 1 0 "
     ]
    }
   ],
   "source": [
    "#s=123abc456def\n",
    "#0 1 1 1 1 1 1 0 0 0\n",
    "#s=c\n",
    "# 0 0 0 0 0 0 0 0 0 0\n",
    "#s=1234567890\n",
    "#  1 1 1 1 1 1 1 1 1 1\n",
    "def uniqueData(allnumbers):\n",
    "    unique=[]\n",
    "    for n in allnumbers:\n",
    "        if n not in unique:\n",
    "            unique.append(n)\n",
    "    return unique\n",
    "    \n",
    "def digitFrequency1(string):\n",
    "    allnumbers=[]\n",
    "    for i in string:\n",
    "        if i.isdigit():\n",
    "            allnumbers.append(i)\n",
    "    unique=uniqueData(allnumbers)\n",
    "    for i in  range(0,10):\n",
    "        if str(i) not in unique:\n",
    "            print(0,end=' ')\n",
    "        else:\n",
    "            count=allnumbers.count(str(i))\n",
    "            print(count,end=' ')\n",
    "string=\"a112578o5t\"\n",
    "digitFrequency1(string)\n",
    "    "
   ]
  },
  {
   "cell_type": "markdown",
   "metadata": {},
   "source": [
    "# Find and replace application"
   ]
  },
  {
   "cell_type": "code",
   "execution_count": 66,
   "metadata": {
    "scrolled": true
   },
   "outputs": [
    {
     "name": "stdout",
     "output_type": "stream",
     "text": [
      "Enter the word which you want to remove lists\n",
      "We have  4 words to replace\n",
      "enter the new wordgopiraju\n",
      "\n",
      "Successfully replaced\n",
      "\n"
     ]
    }
   ],
   "source": [
    "\n",
    "\n",
    "def unique_word_count(filename,word):\n",
    "    c=0\n",
    "    with open(filename,'r') as f:\n",
    "        for line in f:\n",
    "            words=line.split(\" \")\n",
    "            for i in range(0,len(words),1):\n",
    "                if words[i]==word or words[i]==word+\"\\n\":\n",
    "                    c=c+1\n",
    "    print(\"We have \",c,\"words to replace\")\n",
    "    return c\n",
    "    \n",
    "def replace_word(filename,word,rword):\n",
    "    with open(filename,'r+') as f:\n",
    "        data=f.readlines()\n",
    "        f.seek(0)\n",
    "        for line in data:\n",
    "            if word not in line:\n",
    "                f.write(line)\n",
    "                #print(line)\n",
    "            else:\n",
    "                s=line.split()\n",
    "                for j in range(0,len(s),1):\n",
    "                    if word==s[j]:\n",
    "                        s[j]=rword\n",
    "                s=\" \".join(s)\n",
    "                #print(s)\n",
    "                f.write(s+\"\\n\")\n",
    "        f.truncate()\n",
    "    print(\"\\nSuccessfully replaced\\n\")\n",
    "        \n",
    "\n",
    "filename=\"C:/Users/IIIT-rgukt/Desktop/ProblemSolvingProgramingInPython-Level2-june-2019/1.txt\"\n",
    "word=input(\"Enter the word which you want to remove \")\n",
    "unique_word_count(filename,word)\n",
    "rword=input(\"enter the new word\")\n",
    "replace_word(filename,word,rword)\n"
   ]
  },
  {
   "cell_type": "markdown",
   "metadata": {},
   "source": [
    "# function to check two strings or anagrams problem\n"
   ]
  },
  {
   "cell_type": "code",
   "execution_count": 78,
   "metadata": {},
   "outputs": [
    {
     "data": {
      "text/plain": [
       "4"
      ]
     },
     "execution_count": 78,
     "metadata": {},
     "output_type": "execute_result"
    }
   ],
   "source": [
    "\n",
    "#    abc             cba-->True\n",
    "\n",
    "#{a:1,b:1,c:1}     {c:1,b:1,a:1}\n",
    "\n",
    "# aabbcc           ccbbaaa-->False\n",
    "\n",
    "#{a:2,b:2,c:2}  {c:2,b:2,a:3}\n",
    "\n",
    "# def checkAnagrams(s1,s2):\n",
    "#     if len(s1)!=len(s2):\n",
    "#         return False\n",
    "#     if sorted(s1)==sorted(s2):\n",
    "#         return True\n",
    "#     return False\n",
    "# checkAnagrams(\"abc\",\"bcc\")\n",
    "\n",
    "# t=int(input())for i in range(0,t):\n",
    "#     s1=sorted(s1)\n",
    "#     s2=sorted(s2)\n",
    "# for i in s1:\n",
    "#     if i not in s2:\n",
    "#         count=count+1\n",
    "\n",
    "# for i in s2:\n",
    "#     if i not in s1:\n",
    "#         if i not in s1:\n",
    "#             count=count+1\n",
    "            \n",
    "\n",
    "def charDeletionsAnagrams(s1,s2):\n",
    "    uncommon=[]\n",
    "    for i in s1:\n",
    "        if i not in s2:\n",
    "            uncommon.append(i)\n",
    "    for i in s2:\n",
    "        if i not in s1:\n",
    "            uncommon.append(i)\n",
    "    count=len(uncommon)\n",
    "    freqs1={}\n",
    "    freqs2={}\n",
    "    uniqs1=[]\n",
    "    uniqs2=[]\n",
    "    for i in s1:\n",
    "        if i not in uncommon and i not in uniqs1:\n",
    "            freqs1[i]=s1.count(i)\n",
    "            uniqs1.append(i)\n",
    "    for i in s2:\n",
    "        if i not in uncommon and i not in uniqs2:\n",
    "            freqs2[i]=s2.count(i)\n",
    "            uniqs2.append(i)\n",
    "    for key in freqs1.keys():\n",
    "        count+=abs(freqs1[key]-freqs2[key])\n",
    "    return count\n",
    "charDeletionsAnagrams('cde','abc')\n",
    "\n",
    "        \n",
    "    \n"
   ]
  },
  {
   "cell_type": "markdown",
   "metadata": {},
   "source": [
    "# kth problem from Hacker earth "
   ]
  },
  {
   "cell_type": "code",
   "execution_count": null,
   "metadata": {},
   "outputs": [],
   "source": [
    "#{a:4, g:9, i:6, p:213, c:6 }\n",
    "#[4,6,6,9,213]\n",
    "#[213,9,6,6,4]\n",
    "#[a,c,g,i,p]\n",
    "#k=3\n",
    "#li=[]\n",
    "#for item in d.items():\n"
   ]
  },
  {
   "cell_type": "code",
   "execution_count": 81,
   "metadata": {},
   "outputs": [
    {
     "data": {
      "text/plain": [
       "'b'"
      ]
     },
     "execution_count": 81,
     "metadata": {},
     "output_type": "execute_result"
    }
   ],
   "source": [
    "def kLargestFrequency(s,k):\n",
    "    #construct the frequency dictionary\n",
    "    #unique=[]\n",
    "    freq={}\n",
    "    for i in s:\n",
    "        if i not in freq.keys():\n",
    "            freq[i]=s.count(i)\n",
    "    #extract unique frequencies in decending order \n",
    "    values=sorted(freq.values(),reverse=True)\n",
    "    uniqueValues=set(values)\n",
    "    uniqueValues=sorted(uniqueValues, reverse=True)\n",
    "    #identify kth largest frequency \n",
    "    if k<=len(uniquevalues):\n",
    "        kvalue=uniqueValues[k-1]\n",
    "    else:\n",
    "        return -1\n",
    "    #get all elements with kth largest frequency\n",
    "        \n",
    "        kvalue=uniqueValues[k-1]\n",
    "    li=[]\n",
    "    for item in freq.items():\n",
    "        if item[1] == kvalue:\n",
    "            li.append(item[0])\n",
    "    #minimum of kth largest\n",
    "    return min(li)\n",
    "kLargestFrequency('aabcd',3)\n",
    "    \n",
    "    \n",
    "    \n",
    "    \n",
    "    \n",
    "            "
   ]
  },
  {
   "cell_type": "code",
   "execution_count": null,
   "metadata": {},
   "outputs": [],
   "source": []
  },
  {
   "cell_type": "markdown",
   "metadata": {},
   "source": []
  },
  {
   "cell_type": "code",
   "execution_count": null,
   "metadata": {},
   "outputs": [],
   "source": []
  }
 ],
 "metadata": {
  "kernelspec": {
   "display_name": "Python 3",
   "language": "python",
   "name": "python3"
  },
  "language_info": {
   "codemirror_mode": {
    "name": "ipython",
    "version": 3
   },
   "file_extension": ".py",
   "mimetype": "text/x-python",
   "name": "python",
   "nbconvert_exporter": "python",
   "pygments_lexer": "ipython3",
   "version": "3.7.3"
  }
 },
 "nbformat": 4,
 "nbformat_minor": 2
}
