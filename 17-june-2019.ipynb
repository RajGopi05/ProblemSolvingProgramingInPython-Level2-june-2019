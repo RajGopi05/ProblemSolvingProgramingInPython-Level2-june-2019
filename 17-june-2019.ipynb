{
 "cells": [
  {
   "cell_type": "markdown",
   "metadata": {},
   "source": [
    "### Hacker Earth questions\n"
   ]
  },
  {
   "cell_type": "markdown",
   "metadata": {},
   "source": [
    "# Question-1\n",
    "\n",
    "# write a program to determine whether a number N is equal to sum of its proper positive divisors(excluding the number itself)\n",
    "\n",
    "# input formate\n",
    "- first line T(number of test cases\n",
    "- for each test case\n",
    "- first line:N\n",
    "# output format\n",
    "- print YES if N is equal to sum of its proper positive divisors else print NO\n"
   ]
  },
  {
   "cell_type": "code",
   "execution_count": 1,
   "metadata": {},
   "outputs": [
    {
     "name": "stdout",
     "output_type": "stream",
     "text": [
      "3\n",
      "6\n",
      "YES\n",
      "5\n",
      "NO\n",
      "28\n",
      "YES\n"
     ]
    }
   ],
   "source": [
    "\n",
    "def perfect(n):\n",
    "   sum=0\n",
    "   for i in range(1,n):\n",
    "       if(n%i==0):\n",
    "           sum=sum+i\n",
    "   if(n==sum):\n",
    "       return \"YES\"\n",
    "   else:\n",
    "       return \"NO\"\n",
    "      \n",
    "test=int(input())\n",
    "for i in range(test):\n",
    "   n=int(input())\n",
    "   print(perfect(n))\n",
    "\n",
    "\n"
   ]
  },
  {
   "cell_type": "markdown",
   "metadata": {},
   "source": [
    "# Question3  Highest remainder\n",
    "\n",
    "\n",
    "# write a program to find a natural number that is smaller than N such that N gives the \n",
    "\n",
    "# highest remainder when divide with that number\n",
    "\n",
    "# if there is more then one such number,print the smallest one.\n",
    "N\n",
    "hihest=0\n",
    "x<N and N%X==highest\n",
    "10\n",
    "9 1\n",
    "8 2\n",
    "7 3\n",
    "6 4\n",
    "5 0\n",
    "4 2\n",
    "3 1\n",
    "2 0\n",
    "\n",
    "30\n",
    "29 1\n",
    "28 2\n",
    "27 3\n",
    "26 4\n",
    ".\n",
    ".\n",
    ".\n",
    ".\n",
    "3 0\n",
    "2 0\n",
    "\n"
   ]
  },
  {
   "cell_type": "code",
   "execution_count": 4,
   "metadata": {
    "scrolled": true
   },
   "outputs": [
    {
     "name": "stdout",
     "output_type": "stream",
     "text": [
      "16\n"
     ]
    }
   ],
   "source": [
    "def highestRemainder(n):\n",
    "    hr=0\n",
    "    v=n\n",
    "    for i in range(n-1, n//2,-1):\n",
    "        r=n%i\n",
    "        if r>hr:\n",
    "            hr=r\n",
    "            v=i\n",
    "    print(v)\n",
    "    return\n",
    "highestRemainder(30)\n",
    "\n",
    "    \n",
    "\n",
    "\n",
    "\n",
    "\n",
    "\n",
    "\n"
   ]
  },
  {
   "cell_type": "code",
   "execution_count": null,
   "metadata": {},
   "outputs": [],
   "source": [
    "\n",
    "# Question-2\n",
    "\n",
    "# you are given a string S of N characters ai,Determine the number of digits and number of English characters in S.\n",
    "\n",
    "# input\n",
    "-String S of length N\n",
    "\n",
    "# output format\n",
    "\n",
    " - first line:- print the number of digits in S\n",
    "\n",
    " - second line:-print the number of English letters in S\n",
    " \n"
   ]
  },
  {
   "cell_type": "code",
   "execution_count": 5,
   "metadata": {},
   "outputs": [
    {
     "name": "stdout",
     "output_type": "stream",
     "text": [
      "dfg1221%$*erg\n",
      "4\n",
      "6\n"
     ]
    }
   ],
   "source": [
    "\n",
    "\n",
    "def chardigcount(ch):\n",
    "   count=0\n",
    "   sum=0\n",
    "   ch=list(ch)\n",
    "   for i in ch:\n",
    "       if i.isdigit():\n",
    "           count+=1\n",
    "       elif i.isalpha():\n",
    "           sum+=1\n",
    "   print(count)\n",
    "   print(sum)\n",
    "ch=input()\n",
    "chardigcount(ch)\n",
    "\n",
    "\n"
   ]
  },
  {
   "cell_type": "markdown",
   "metadata": {},
   "source": [
    "# Question4- 15marks\n",
    "# a specia number is defined as number which has atleast p distinct prime factors\n",
    "# write a program to determine whether the number N is special number\n",
    "\n"
   ]
  },
  {
   "cell_type": "code",
   "execution_count": 1,
   "metadata": {},
   "outputs": [
    {
     "name": "stdout",
     "output_type": "stream",
     "text": [
      "2\n",
      "3\n",
      "6\n",
      "YES\n",
      "3\n",
      "NO\n",
      "7\n",
      "NO\n"
     ]
    }
   ],
   "source": [
    "#function to determine if a number is special number or not\n",
    "\n",
    "def isSpecialNumber(n,p):\n",
    "    if numberPrimeFactors(n)>=p:\n",
    "        return True\n",
    "    return False\n",
    "\n",
    "    \n",
    "\n",
    "#function to check if number is prime\n",
    "\n",
    "def isPrime(n):\n",
    "    flag=1\n",
    "    if n==2:\n",
    "        return True\n",
    "    for i in range(2, n//2 +1):\n",
    "        if n%i==0:\n",
    "            flag=0\n",
    "            return False\n",
    "    if flag==1:\n",
    "        return True\n",
    "isPrime(3)\n",
    "    \n",
    "\n",
    "#function to determine number of prime factors for a given number\n",
    "\n",
    "def numberPrimeFactors(n):\n",
    "    if isPrime(n):\n",
    "        return 1\n",
    "    count=0\n",
    "    for i in range(2, n//2 +1):\n",
    "        if isPrime(i) and n%i==0:\n",
    "            count=count+1\n",
    "    return count\n",
    "\n",
    "def solution2():\n",
    "    p=int(input())\n",
    "    t=int(input())\n",
    "    for i in range(0,t):\n",
    "        n=int(input())\n",
    "        if isSpecialNumber(n,p):\n",
    "            print(\"YES\")\n",
    "        else:\n",
    "            print(\"NO\")\n",
    "numberPrimeFactors(30)\n",
    "isSpecialNumber(30,2)\n",
    "solution2()\n",
    "    "
   ]
  },
  {
   "cell_type": "markdown",
   "metadata": {},
   "source": []
  }
 ],
 "metadata": {
  "kernelspec": {
   "display_name": "Python 3",
   "language": "python",
   "name": "python3"
  },
  "language_info": {
   "codemirror_mode": {
    "name": "ipython",
    "version": 3
   },
   "file_extension": ".py",
   "mimetype": "text/x-python",
   "name": "python",
   "nbconvert_exporter": "python",
   "pygments_lexer": "ipython3",
   "version": "3.7.3"
  }
 },
 "nbformat": 4,
 "nbformat_minor": 2
}
